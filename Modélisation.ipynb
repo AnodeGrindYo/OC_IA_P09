{
 "cells": [
  {
   "cell_type": "markdown",
   "id": "e6c8cad7",
   "metadata": {},
   "source": [
    "# Réalisez une application de recommandation de contenu"
   ]
  },
  {
   "cell_type": "markdown",
   "id": "30b9d22c",
   "metadata": {},
   "source": [
    "## Librairies"
   ]
  },
  {
   "cell_type": "code",
   "execution_count": 1,
   "id": "738cc090",
   "metadata": {},
   "outputs": [
    {
     "name": "stderr",
     "output_type": "stream",
     "text": [
      "C:\\Users\\Utilisateur\\anaconda3\\envs\\OC_P09\\lib\\site-packages\\scipy\\__init__.py:146: UserWarning: A NumPy version >=1.16.5 and <1.23.0 is required for this version of SciPy (detected version 1.23.1\n",
      "  warnings.warn(f\"A NumPy version >={np_minversion} and <{np_maxversion}\"\n"
     ]
    }
   ],
   "source": [
    "import os\n",
    "import pandas as pd\n",
    "import numpy as np\n",
    "import matplotlib.pyplot as plt\n",
    "import seaborn as sns\n",
    "import requests\n",
    "import zipfile\n",
    "import pickle\n",
    "from surprise import Reader, Dataset\n",
    "from surprise import dump, accuracy\n",
    "from surprise.model_selection import train_test_split, cross_validate\n",
    "from surprise.model_selection import cross_validate\n",
    "from surprise import NormalPredictor\n",
    "from surprise import KNNBasic\n",
    "from surprise import KNNWithMeans\n",
    "from surprise import KNNWithZScore\n",
    "from surprise import KNNBaseline\n",
    "from surprise import SVD\n",
    "from surprise import BaselineOnly\n",
    "from surprise import SVDpp\n",
    "from surprise import NMF\n",
    "from surprise import SlopeOne\n",
    "from surprise import CoClustering\n",
    "from surprise.accuracy import rmse\n",
    "from collections import defaultdict\n",
    "from operator import itemgetter\n",
    "from sklearn.metrics.pairwise import linear_kernel\n",
    "from sklearn.metrics.pairwise import cosine_similarity\n",
    "from sklearn.decomposition import PCA\n",
    "from math import floor\n",
    "from heapq import nlargest"
   ]
  },
  {
   "cell_type": "markdown",
   "id": "fb85fa8f",
   "metadata": {},
   "source": [
    "## Settings"
   ]
  },
  {
   "cell_type": "code",
   "execution_count": 2,
   "id": "e434c14c",
   "metadata": {},
   "outputs": [],
   "source": [
    "plt.style.use(\"dark_background\")"
   ]
  },
  {
   "cell_type": "markdown",
   "id": "80b651ba",
   "metadata": {},
   "source": [
    "## Données"
   ]
  },
  {
   "cell_type": "markdown",
   "id": "4cc5ff20",
   "metadata": {},
   "source": [
    "### Téléchargement"
   ]
  },
  {
   "cell_type": "code",
   "execution_count": 36,
   "id": "4bf4f991",
   "metadata": {},
   "outputs": [],
   "source": [
    "remote_url = \"https://s3-eu-west-1.amazonaws.com/static.oc-static.com/prod/courses/files/AI+Engineer/Project+9+-+R%C3%A9alisez+une+application+mobile+de+recommandation+de+contenu/news-portal-user-interactions-by-globocom.zip\"\n",
    "data_path = \"./data/\"\n",
    "local_file = data_path + \"news-portal-user-interactions-by-globocom.zip\""
   ]
  },
  {
   "cell_type": "code",
   "execution_count": 3,
   "id": "feefd1ea",
   "metadata": {},
   "outputs": [],
   "source": [
    "data = requests.get(remote_url)\n",
    "with open(local_file, 'wb')as file:\n",
    "    file.write(data.content)"
   ]
  },
  {
   "cell_type": "code",
   "execution_count": 12,
   "id": "63d26d73",
   "metadata": {},
   "outputs": [
    {
     "data": {
      "text/plain": [
       "['news-portal-user-interactions-by-globocom.zip']"
      ]
     },
     "execution_count": 12,
     "metadata": {},
     "output_type": "execute_result"
    }
   ],
   "source": [
    "os.listdir(data_path)"
   ]
  },
  {
   "cell_type": "markdown",
   "id": "04c494ff",
   "metadata": {},
   "source": [
    "### Décompression"
   ]
  },
  {
   "cell_type": "code",
   "execution_count": 13,
   "id": "af2ba98b",
   "metadata": {},
   "outputs": [],
   "source": [
    "with zipfile.ZipFile(local_file, 'r') as zip_ref:\n",
    "    zip_ref.extractall(data_path)"
   ]
  },
  {
   "cell_type": "code",
   "execution_count": 14,
   "id": "f79d419a",
   "metadata": {},
   "outputs": [
    {
     "data": {
      "text/plain": [
       "['articles_embeddings.pickle',\n",
       " 'articles_metadata.csv',\n",
       " 'clicks.zip',\n",
       " 'clicks_sample.csv',\n",
       " 'news-portal-user-interactions-by-globocom.zip']"
      ]
     },
     "execution_count": 14,
     "metadata": {},
     "output_type": "execute_result"
    }
   ],
   "source": [
    "os.listdir(data_path)"
   ]
  },
  {
   "cell_type": "code",
   "execution_count": 18,
   "id": "cb999e53",
   "metadata": {},
   "outputs": [],
   "source": [
    "with zipfile.ZipFile(data_path+\"clicks.zip\", 'r') as zip_ref:\n",
    "    zip_ref.extractall(data_path)"
   ]
  },
  {
   "cell_type": "code",
   "execution_count": 4,
   "id": "7a814f03",
   "metadata": {},
   "outputs": [],
   "source": [
    "clicks_path = data_path + \"clicks/\""
   ]
  },
  {
   "cell_type": "code",
   "execution_count": 19,
   "id": "9e39756b",
   "metadata": {},
   "outputs": [
    {
     "data": {
      "text/plain": [
       "['clicks_hour_000.csv',\n",
       " 'clicks_hour_001.csv',\n",
       " 'clicks_hour_002.csv',\n",
       " 'clicks_hour_003.csv',\n",
       " 'clicks_hour_004.csv',\n",
       " 'clicks_hour_005.csv',\n",
       " 'clicks_hour_006.csv',\n",
       " 'clicks_hour_007.csv',\n",
       " 'clicks_hour_008.csv',\n",
       " 'clicks_hour_009.csv',\n",
       " 'clicks_hour_010.csv',\n",
       " 'clicks_hour_011.csv',\n",
       " 'clicks_hour_012.csv',\n",
       " 'clicks_hour_013.csv',\n",
       " 'clicks_hour_014.csv',\n",
       " 'clicks_hour_015.csv',\n",
       " 'clicks_hour_016.csv',\n",
       " 'clicks_hour_017.csv',\n",
       " 'clicks_hour_018.csv',\n",
       " 'clicks_hour_019.csv',\n",
       " 'clicks_hour_020.csv',\n",
       " 'clicks_hour_021.csv',\n",
       " 'clicks_hour_022.csv',\n",
       " 'clicks_hour_023.csv',\n",
       " 'clicks_hour_024.csv',\n",
       " 'clicks_hour_025.csv',\n",
       " 'clicks_hour_026.csv',\n",
       " 'clicks_hour_027.csv',\n",
       " 'clicks_hour_028.csv',\n",
       " 'clicks_hour_029.csv',\n",
       " 'clicks_hour_030.csv',\n",
       " 'clicks_hour_031.csv',\n",
       " 'clicks_hour_032.csv',\n",
       " 'clicks_hour_033.csv',\n",
       " 'clicks_hour_034.csv',\n",
       " 'clicks_hour_035.csv',\n",
       " 'clicks_hour_036.csv',\n",
       " 'clicks_hour_037.csv',\n",
       " 'clicks_hour_038.csv',\n",
       " 'clicks_hour_039.csv',\n",
       " 'clicks_hour_040.csv',\n",
       " 'clicks_hour_041.csv',\n",
       " 'clicks_hour_042.csv',\n",
       " 'clicks_hour_043.csv',\n",
       " 'clicks_hour_044.csv',\n",
       " 'clicks_hour_045.csv',\n",
       " 'clicks_hour_046.csv',\n",
       " 'clicks_hour_047.csv',\n",
       " 'clicks_hour_048.csv',\n",
       " 'clicks_hour_049.csv',\n",
       " 'clicks_hour_050.csv',\n",
       " 'clicks_hour_051.csv',\n",
       " 'clicks_hour_052.csv',\n",
       " 'clicks_hour_053.csv',\n",
       " 'clicks_hour_054.csv',\n",
       " 'clicks_hour_055.csv',\n",
       " 'clicks_hour_056.csv',\n",
       " 'clicks_hour_057.csv',\n",
       " 'clicks_hour_058.csv',\n",
       " 'clicks_hour_059.csv',\n",
       " 'clicks_hour_060.csv',\n",
       " 'clicks_hour_061.csv',\n",
       " 'clicks_hour_062.csv',\n",
       " 'clicks_hour_063.csv',\n",
       " 'clicks_hour_064.csv',\n",
       " 'clicks_hour_065.csv',\n",
       " 'clicks_hour_066.csv',\n",
       " 'clicks_hour_067.csv',\n",
       " 'clicks_hour_068.csv',\n",
       " 'clicks_hour_069.csv',\n",
       " 'clicks_hour_070.csv',\n",
       " 'clicks_hour_071.csv',\n",
       " 'clicks_hour_072.csv',\n",
       " 'clicks_hour_073.csv',\n",
       " 'clicks_hour_074.csv',\n",
       " 'clicks_hour_075.csv',\n",
       " 'clicks_hour_076.csv',\n",
       " 'clicks_hour_077.csv',\n",
       " 'clicks_hour_078.csv',\n",
       " 'clicks_hour_079.csv',\n",
       " 'clicks_hour_080.csv',\n",
       " 'clicks_hour_081.csv',\n",
       " 'clicks_hour_082.csv',\n",
       " 'clicks_hour_083.csv',\n",
       " 'clicks_hour_084.csv',\n",
       " 'clicks_hour_085.csv',\n",
       " 'clicks_hour_086.csv',\n",
       " 'clicks_hour_087.csv',\n",
       " 'clicks_hour_088.csv',\n",
       " 'clicks_hour_089.csv',\n",
       " 'clicks_hour_090.csv',\n",
       " 'clicks_hour_091.csv',\n",
       " 'clicks_hour_092.csv',\n",
       " 'clicks_hour_093.csv',\n",
       " 'clicks_hour_094.csv',\n",
       " 'clicks_hour_095.csv',\n",
       " 'clicks_hour_096.csv',\n",
       " 'clicks_hour_097.csv',\n",
       " 'clicks_hour_098.csv',\n",
       " 'clicks_hour_099.csv',\n",
       " 'clicks_hour_100.csv',\n",
       " 'clicks_hour_101.csv',\n",
       " 'clicks_hour_102.csv',\n",
       " 'clicks_hour_103.csv',\n",
       " 'clicks_hour_104.csv',\n",
       " 'clicks_hour_105.csv',\n",
       " 'clicks_hour_106.csv',\n",
       " 'clicks_hour_107.csv',\n",
       " 'clicks_hour_108.csv',\n",
       " 'clicks_hour_109.csv',\n",
       " 'clicks_hour_110.csv',\n",
       " 'clicks_hour_111.csv',\n",
       " 'clicks_hour_112.csv',\n",
       " 'clicks_hour_113.csv',\n",
       " 'clicks_hour_114.csv',\n",
       " 'clicks_hour_115.csv',\n",
       " 'clicks_hour_116.csv',\n",
       " 'clicks_hour_117.csv',\n",
       " 'clicks_hour_118.csv',\n",
       " 'clicks_hour_119.csv',\n",
       " 'clicks_hour_120.csv',\n",
       " 'clicks_hour_121.csv',\n",
       " 'clicks_hour_122.csv',\n",
       " 'clicks_hour_123.csv',\n",
       " 'clicks_hour_124.csv',\n",
       " 'clicks_hour_125.csv',\n",
       " 'clicks_hour_126.csv',\n",
       " 'clicks_hour_127.csv',\n",
       " 'clicks_hour_128.csv',\n",
       " 'clicks_hour_129.csv',\n",
       " 'clicks_hour_130.csv',\n",
       " 'clicks_hour_131.csv',\n",
       " 'clicks_hour_132.csv',\n",
       " 'clicks_hour_133.csv',\n",
       " 'clicks_hour_134.csv',\n",
       " 'clicks_hour_135.csv',\n",
       " 'clicks_hour_136.csv',\n",
       " 'clicks_hour_137.csv',\n",
       " 'clicks_hour_138.csv',\n",
       " 'clicks_hour_139.csv',\n",
       " 'clicks_hour_140.csv',\n",
       " 'clicks_hour_141.csv',\n",
       " 'clicks_hour_142.csv',\n",
       " 'clicks_hour_143.csv',\n",
       " 'clicks_hour_144.csv',\n",
       " 'clicks_hour_145.csv',\n",
       " 'clicks_hour_146.csv',\n",
       " 'clicks_hour_147.csv',\n",
       " 'clicks_hour_148.csv',\n",
       " 'clicks_hour_149.csv',\n",
       " 'clicks_hour_150.csv',\n",
       " 'clicks_hour_151.csv',\n",
       " 'clicks_hour_152.csv',\n",
       " 'clicks_hour_153.csv',\n",
       " 'clicks_hour_154.csv',\n",
       " 'clicks_hour_155.csv',\n",
       " 'clicks_hour_156.csv',\n",
       " 'clicks_hour_157.csv',\n",
       " 'clicks_hour_158.csv',\n",
       " 'clicks_hour_159.csv',\n",
       " 'clicks_hour_160.csv',\n",
       " 'clicks_hour_161.csv',\n",
       " 'clicks_hour_162.csv',\n",
       " 'clicks_hour_163.csv',\n",
       " 'clicks_hour_164.csv',\n",
       " 'clicks_hour_165.csv',\n",
       " 'clicks_hour_166.csv',\n",
       " 'clicks_hour_167.csv',\n",
       " 'clicks_hour_168.csv',\n",
       " 'clicks_hour_169.csv',\n",
       " 'clicks_hour_170.csv',\n",
       " 'clicks_hour_171.csv',\n",
       " 'clicks_hour_172.csv',\n",
       " 'clicks_hour_173.csv',\n",
       " 'clicks_hour_174.csv',\n",
       " 'clicks_hour_175.csv',\n",
       " 'clicks_hour_176.csv',\n",
       " 'clicks_hour_177.csv',\n",
       " 'clicks_hour_178.csv',\n",
       " 'clicks_hour_179.csv',\n",
       " 'clicks_hour_180.csv',\n",
       " 'clicks_hour_181.csv',\n",
       " 'clicks_hour_182.csv',\n",
       " 'clicks_hour_183.csv',\n",
       " 'clicks_hour_184.csv',\n",
       " 'clicks_hour_185.csv',\n",
       " 'clicks_hour_186.csv',\n",
       " 'clicks_hour_187.csv',\n",
       " 'clicks_hour_188.csv',\n",
       " 'clicks_hour_189.csv',\n",
       " 'clicks_hour_190.csv',\n",
       " 'clicks_hour_191.csv',\n",
       " 'clicks_hour_192.csv',\n",
       " 'clicks_hour_193.csv',\n",
       " 'clicks_hour_194.csv',\n",
       " 'clicks_hour_195.csv',\n",
       " 'clicks_hour_196.csv',\n",
       " 'clicks_hour_197.csv',\n",
       " 'clicks_hour_198.csv',\n",
       " 'clicks_hour_199.csv',\n",
       " 'clicks_hour_200.csv',\n",
       " 'clicks_hour_201.csv',\n",
       " 'clicks_hour_202.csv',\n",
       " 'clicks_hour_203.csv',\n",
       " 'clicks_hour_204.csv',\n",
       " 'clicks_hour_205.csv',\n",
       " 'clicks_hour_206.csv',\n",
       " 'clicks_hour_207.csv',\n",
       " 'clicks_hour_208.csv',\n",
       " 'clicks_hour_209.csv',\n",
       " 'clicks_hour_210.csv',\n",
       " 'clicks_hour_211.csv',\n",
       " 'clicks_hour_212.csv',\n",
       " 'clicks_hour_213.csv',\n",
       " 'clicks_hour_214.csv',\n",
       " 'clicks_hour_215.csv',\n",
       " 'clicks_hour_216.csv',\n",
       " 'clicks_hour_217.csv',\n",
       " 'clicks_hour_218.csv',\n",
       " 'clicks_hour_219.csv',\n",
       " 'clicks_hour_220.csv',\n",
       " 'clicks_hour_221.csv',\n",
       " 'clicks_hour_222.csv',\n",
       " 'clicks_hour_223.csv',\n",
       " 'clicks_hour_224.csv',\n",
       " 'clicks_hour_225.csv',\n",
       " 'clicks_hour_226.csv',\n",
       " 'clicks_hour_227.csv',\n",
       " 'clicks_hour_228.csv',\n",
       " 'clicks_hour_229.csv',\n",
       " 'clicks_hour_230.csv',\n",
       " 'clicks_hour_231.csv',\n",
       " 'clicks_hour_232.csv',\n",
       " 'clicks_hour_233.csv',\n",
       " 'clicks_hour_234.csv',\n",
       " 'clicks_hour_235.csv',\n",
       " 'clicks_hour_236.csv',\n",
       " 'clicks_hour_237.csv',\n",
       " 'clicks_hour_238.csv',\n",
       " 'clicks_hour_239.csv',\n",
       " 'clicks_hour_240.csv',\n",
       " 'clicks_hour_241.csv',\n",
       " 'clicks_hour_242.csv',\n",
       " 'clicks_hour_243.csv',\n",
       " 'clicks_hour_244.csv',\n",
       " 'clicks_hour_245.csv',\n",
       " 'clicks_hour_246.csv',\n",
       " 'clicks_hour_247.csv',\n",
       " 'clicks_hour_248.csv',\n",
       " 'clicks_hour_249.csv',\n",
       " 'clicks_hour_250.csv',\n",
       " 'clicks_hour_251.csv',\n",
       " 'clicks_hour_252.csv',\n",
       " 'clicks_hour_253.csv',\n",
       " 'clicks_hour_254.csv',\n",
       " 'clicks_hour_255.csv',\n",
       " 'clicks_hour_256.csv',\n",
       " 'clicks_hour_257.csv',\n",
       " 'clicks_hour_258.csv',\n",
       " 'clicks_hour_259.csv',\n",
       " 'clicks_hour_260.csv',\n",
       " 'clicks_hour_261.csv',\n",
       " 'clicks_hour_262.csv',\n",
       " 'clicks_hour_263.csv',\n",
       " 'clicks_hour_264.csv',\n",
       " 'clicks_hour_265.csv',\n",
       " 'clicks_hour_266.csv',\n",
       " 'clicks_hour_267.csv',\n",
       " 'clicks_hour_268.csv',\n",
       " 'clicks_hour_269.csv',\n",
       " 'clicks_hour_270.csv',\n",
       " 'clicks_hour_271.csv',\n",
       " 'clicks_hour_272.csv',\n",
       " 'clicks_hour_273.csv',\n",
       " 'clicks_hour_274.csv',\n",
       " 'clicks_hour_275.csv',\n",
       " 'clicks_hour_276.csv',\n",
       " 'clicks_hour_277.csv',\n",
       " 'clicks_hour_278.csv',\n",
       " 'clicks_hour_279.csv',\n",
       " 'clicks_hour_280.csv',\n",
       " 'clicks_hour_281.csv',\n",
       " 'clicks_hour_282.csv',\n",
       " 'clicks_hour_283.csv',\n",
       " 'clicks_hour_284.csv',\n",
       " 'clicks_hour_285.csv',\n",
       " 'clicks_hour_286.csv',\n",
       " 'clicks_hour_287.csv',\n",
       " 'clicks_hour_288.csv',\n",
       " 'clicks_hour_289.csv',\n",
       " 'clicks_hour_290.csv',\n",
       " 'clicks_hour_291.csv',\n",
       " 'clicks_hour_292.csv',\n",
       " 'clicks_hour_293.csv',\n",
       " 'clicks_hour_294.csv',\n",
       " 'clicks_hour_295.csv',\n",
       " 'clicks_hour_296.csv',\n",
       " 'clicks_hour_297.csv',\n",
       " 'clicks_hour_298.csv',\n",
       " 'clicks_hour_299.csv',\n",
       " 'clicks_hour_300.csv',\n",
       " 'clicks_hour_301.csv',\n",
       " 'clicks_hour_302.csv',\n",
       " 'clicks_hour_303.csv',\n",
       " 'clicks_hour_304.csv',\n",
       " 'clicks_hour_305.csv',\n",
       " 'clicks_hour_306.csv',\n",
       " 'clicks_hour_307.csv',\n",
       " 'clicks_hour_308.csv',\n",
       " 'clicks_hour_309.csv',\n",
       " 'clicks_hour_310.csv',\n",
       " 'clicks_hour_311.csv',\n",
       " 'clicks_hour_312.csv',\n",
       " 'clicks_hour_313.csv',\n",
       " 'clicks_hour_314.csv',\n",
       " 'clicks_hour_315.csv',\n",
       " 'clicks_hour_316.csv',\n",
       " 'clicks_hour_317.csv',\n",
       " 'clicks_hour_318.csv',\n",
       " 'clicks_hour_319.csv',\n",
       " 'clicks_hour_320.csv',\n",
       " 'clicks_hour_321.csv',\n",
       " 'clicks_hour_322.csv',\n",
       " 'clicks_hour_323.csv',\n",
       " 'clicks_hour_324.csv',\n",
       " 'clicks_hour_325.csv',\n",
       " 'clicks_hour_326.csv',\n",
       " 'clicks_hour_327.csv',\n",
       " 'clicks_hour_328.csv',\n",
       " 'clicks_hour_329.csv',\n",
       " 'clicks_hour_330.csv',\n",
       " 'clicks_hour_331.csv',\n",
       " 'clicks_hour_332.csv',\n",
       " 'clicks_hour_333.csv',\n",
       " 'clicks_hour_334.csv',\n",
       " 'clicks_hour_335.csv',\n",
       " 'clicks_hour_336.csv',\n",
       " 'clicks_hour_337.csv',\n",
       " 'clicks_hour_338.csv',\n",
       " 'clicks_hour_339.csv',\n",
       " 'clicks_hour_340.csv',\n",
       " 'clicks_hour_341.csv',\n",
       " 'clicks_hour_342.csv',\n",
       " 'clicks_hour_343.csv',\n",
       " 'clicks_hour_344.csv',\n",
       " 'clicks_hour_345.csv',\n",
       " 'clicks_hour_346.csv',\n",
       " 'clicks_hour_347.csv',\n",
       " 'clicks_hour_348.csv',\n",
       " 'clicks_hour_349.csv',\n",
       " 'clicks_hour_350.csv',\n",
       " 'clicks_hour_351.csv',\n",
       " 'clicks_hour_352.csv',\n",
       " 'clicks_hour_353.csv',\n",
       " 'clicks_hour_354.csv',\n",
       " 'clicks_hour_355.csv',\n",
       " 'clicks_hour_356.csv',\n",
       " 'clicks_hour_357.csv',\n",
       " 'clicks_hour_358.csv',\n",
       " 'clicks_hour_359.csv',\n",
       " 'clicks_hour_360.csv',\n",
       " 'clicks_hour_361.csv',\n",
       " 'clicks_hour_362.csv',\n",
       " 'clicks_hour_363.csv',\n",
       " 'clicks_hour_364.csv',\n",
       " 'clicks_hour_365.csv',\n",
       " 'clicks_hour_366.csv',\n",
       " 'clicks_hour_367.csv',\n",
       " 'clicks_hour_368.csv',\n",
       " 'clicks_hour_369.csv',\n",
       " 'clicks_hour_370.csv',\n",
       " 'clicks_hour_371.csv',\n",
       " 'clicks_hour_372.csv',\n",
       " 'clicks_hour_373.csv',\n",
       " 'clicks_hour_374.csv',\n",
       " 'clicks_hour_375.csv',\n",
       " 'clicks_hour_376.csv',\n",
       " 'clicks_hour_377.csv',\n",
       " 'clicks_hour_378.csv',\n",
       " 'clicks_hour_379.csv',\n",
       " 'clicks_hour_380.csv',\n",
       " 'clicks_hour_381.csv',\n",
       " 'clicks_hour_382.csv',\n",
       " 'clicks_hour_383.csv',\n",
       " 'clicks_hour_384.csv']"
      ]
     },
     "execution_count": 19,
     "metadata": {},
     "output_type": "execute_result"
    }
   ],
   "source": [
    "os.listdir(clicks_path)"
   ]
  },
  {
   "cell_type": "markdown",
   "id": "2e00e441",
   "metadata": {},
   "source": [
    "## Fonctions usuelles"
   ]
  },
  {
   "cell_type": "code",
   "execution_count": 5,
   "id": "25d73e0c",
   "metadata": {},
   "outputs": [],
   "source": [
    "def get_limits(df, column):\n",
    "    Q1 = df[column].quantile(0.25)\n",
    "    Q3 = df[column].quantile(0.75)\n",
    "    IQR = Q3 - Q1\n",
    "    lim_inf = Q1 - (1.5*IQR)\n",
    "    lim_sup = Q3 + (1.5*IQR)\n",
    "    return lim_inf, lim_sup\n",
    "\n",
    "def get_outliers(df, column):\n",
    "    lim_inf, lim_sup = get_limits(df, column)\n",
    "    return df[(df[column]<lim_inf) | (df[column]>lim_sup)]"
   ]
  },
  {
   "cell_type": "markdown",
   "id": "b8b0c560",
   "metadata": {},
   "source": [
    "## Analyse des données"
   ]
  },
  {
   "cell_type": "code",
   "execution_count": 6,
   "id": "9f59414a",
   "metadata": {},
   "outputs": [],
   "source": [
    "df = {}"
   ]
  },
  {
   "cell_type": "markdown",
   "id": "97c7d216",
   "metadata": {},
   "source": [
    "### articles_metadata.csv"
   ]
  },
  {
   "cell_type": "code",
   "execution_count": 7,
   "id": "76c922eb",
   "metadata": {},
   "outputs": [
    {
     "data": {
      "text/html": [
       "<div>\n",
       "<style scoped>\n",
       "    .dataframe tbody tr th:only-of-type {\n",
       "        vertical-align: middle;\n",
       "    }\n",
       "\n",
       "    .dataframe tbody tr th {\n",
       "        vertical-align: top;\n",
       "    }\n",
       "\n",
       "    .dataframe thead th {\n",
       "        text-align: right;\n",
       "    }\n",
       "</style>\n",
       "<table border=\"1\" class=\"dataframe\">\n",
       "  <thead>\n",
       "    <tr style=\"text-align: right;\">\n",
       "      <th></th>\n",
       "      <th>article_id</th>\n",
       "      <th>category_id</th>\n",
       "      <th>created_at_ts</th>\n",
       "      <th>publisher_id</th>\n",
       "      <th>words_count</th>\n",
       "    </tr>\n",
       "  </thead>\n",
       "  <tbody>\n",
       "    <tr>\n",
       "      <th>0</th>\n",
       "      <td>0</td>\n",
       "      <td>0</td>\n",
       "      <td>1513144419000</td>\n",
       "      <td>0</td>\n",
       "      <td>168</td>\n",
       "    </tr>\n",
       "    <tr>\n",
       "      <th>1</th>\n",
       "      <td>1</td>\n",
       "      <td>1</td>\n",
       "      <td>1405341936000</td>\n",
       "      <td>0</td>\n",
       "      <td>189</td>\n",
       "    </tr>\n",
       "    <tr>\n",
       "      <th>2</th>\n",
       "      <td>2</td>\n",
       "      <td>1</td>\n",
       "      <td>1408667706000</td>\n",
       "      <td>0</td>\n",
       "      <td>250</td>\n",
       "    </tr>\n",
       "    <tr>\n",
       "      <th>3</th>\n",
       "      <td>3</td>\n",
       "      <td>1</td>\n",
       "      <td>1408468313000</td>\n",
       "      <td>0</td>\n",
       "      <td>230</td>\n",
       "    </tr>\n",
       "    <tr>\n",
       "      <th>4</th>\n",
       "      <td>4</td>\n",
       "      <td>1</td>\n",
       "      <td>1407071171000</td>\n",
       "      <td>0</td>\n",
       "      <td>162</td>\n",
       "    </tr>\n",
       "  </tbody>\n",
       "</table>\n",
       "</div>"
      ],
      "text/plain": [
       "   article_id  category_id  created_at_ts  publisher_id  words_count\n",
       "0           0            0  1513144419000             0          168\n",
       "1           1            1  1405341936000             0          189\n",
       "2           2            1  1408667706000             0          250\n",
       "3           3            1  1408468313000             0          230\n",
       "4           4            1  1407071171000             0          162"
      ]
     },
     "execution_count": 7,
     "metadata": {},
     "output_type": "execute_result"
    }
   ],
   "source": [
    "df[\"articles_metadata\"] = pd.read_csv(\n",
    "    data_path + \"articles_metadata.csv\"\n",
    ")\n",
    "df[\"articles_metadata\"].head()"
   ]
  },
  {
   "cell_type": "code",
   "execution_count": 28,
   "id": "2242dd7f",
   "metadata": {},
   "outputs": [
    {
     "data": {
      "text/plain": [
       "(364047, 5)"
      ]
     },
     "execution_count": 28,
     "metadata": {},
     "output_type": "execute_result"
    }
   ],
   "source": [
    "df[\"articles_metadata\"].shape"
   ]
  },
  {
   "cell_type": "code",
   "execution_count": 29,
   "id": "dc4efcf4",
   "metadata": {},
   "outputs": [
    {
     "data": {
      "text/html": [
       "<div>\n",
       "<style scoped>\n",
       "    .dataframe tbody tr th:only-of-type {\n",
       "        vertical-align: middle;\n",
       "    }\n",
       "\n",
       "    .dataframe tbody tr th {\n",
       "        vertical-align: top;\n",
       "    }\n",
       "\n",
       "    .dataframe thead th {\n",
       "        text-align: right;\n",
       "    }\n",
       "</style>\n",
       "<table border=\"1\" class=\"dataframe\">\n",
       "  <thead>\n",
       "    <tr style=\"text-align: right;\">\n",
       "      <th></th>\n",
       "      <th>article_id</th>\n",
       "      <th>category_id</th>\n",
       "      <th>created_at_ts</th>\n",
       "      <th>publisher_id</th>\n",
       "      <th>words_count</th>\n",
       "    </tr>\n",
       "  </thead>\n",
       "  <tbody>\n",
       "    <tr>\n",
       "      <th>count</th>\n",
       "      <td>364047.000000</td>\n",
       "      <td>364047.000000</td>\n",
       "      <td>3.640470e+05</td>\n",
       "      <td>364047.0</td>\n",
       "      <td>364047.000000</td>\n",
       "    </tr>\n",
       "    <tr>\n",
       "      <th>mean</th>\n",
       "      <td>182023.000000</td>\n",
       "      <td>283.108239</td>\n",
       "      <td>1.474070e+12</td>\n",
       "      <td>0.0</td>\n",
       "      <td>190.897727</td>\n",
       "    </tr>\n",
       "    <tr>\n",
       "      <th>std</th>\n",
       "      <td>105091.461061</td>\n",
       "      <td>136.723470</td>\n",
       "      <td>4.293038e+10</td>\n",
       "      <td>0.0</td>\n",
       "      <td>59.502766</td>\n",
       "    </tr>\n",
       "    <tr>\n",
       "      <th>min</th>\n",
       "      <td>0.000000</td>\n",
       "      <td>0.000000</td>\n",
       "      <td>1.159356e+12</td>\n",
       "      <td>0.0</td>\n",
       "      <td>0.000000</td>\n",
       "    </tr>\n",
       "    <tr>\n",
       "      <th>25%</th>\n",
       "      <td>91011.500000</td>\n",
       "      <td>199.000000</td>\n",
       "      <td>1.444925e+12</td>\n",
       "      <td>0.0</td>\n",
       "      <td>159.000000</td>\n",
       "    </tr>\n",
       "    <tr>\n",
       "      <th>50%</th>\n",
       "      <td>182023.000000</td>\n",
       "      <td>301.000000</td>\n",
       "      <td>1.489422e+12</td>\n",
       "      <td>0.0</td>\n",
       "      <td>186.000000</td>\n",
       "    </tr>\n",
       "    <tr>\n",
       "      <th>75%</th>\n",
       "      <td>273034.500000</td>\n",
       "      <td>399.000000</td>\n",
       "      <td>1.509891e+12</td>\n",
       "      <td>0.0</td>\n",
       "      <td>218.000000</td>\n",
       "    </tr>\n",
       "    <tr>\n",
       "      <th>max</th>\n",
       "      <td>364046.000000</td>\n",
       "      <td>460.000000</td>\n",
       "      <td>1.520943e+12</td>\n",
       "      <td>0.0</td>\n",
       "      <td>6690.000000</td>\n",
       "    </tr>\n",
       "  </tbody>\n",
       "</table>\n",
       "</div>"
      ],
      "text/plain": [
       "          article_id    category_id  created_at_ts  publisher_id  \\\n",
       "count  364047.000000  364047.000000   3.640470e+05      364047.0   \n",
       "mean   182023.000000     283.108239   1.474070e+12           0.0   \n",
       "std    105091.461061     136.723470   4.293038e+10           0.0   \n",
       "min         0.000000       0.000000   1.159356e+12           0.0   \n",
       "25%     91011.500000     199.000000   1.444925e+12           0.0   \n",
       "50%    182023.000000     301.000000   1.489422e+12           0.0   \n",
       "75%    273034.500000     399.000000   1.509891e+12           0.0   \n",
       "max    364046.000000     460.000000   1.520943e+12           0.0   \n",
       "\n",
       "         words_count  \n",
       "count  364047.000000  \n",
       "mean      190.897727  \n",
       "std        59.502766  \n",
       "min         0.000000  \n",
       "25%       159.000000  \n",
       "50%       186.000000  \n",
       "75%       218.000000  \n",
       "max      6690.000000  "
      ]
     },
     "execution_count": 29,
     "metadata": {},
     "output_type": "execute_result"
    }
   ],
   "source": [
    "df[\"articles_metadata\"].describe()"
   ]
  },
  {
   "cell_type": "code",
   "execution_count": 61,
   "id": "981311e0",
   "metadata": {},
   "outputs": [
    {
     "name": "stdout",
     "output_type": "stream",
     "text": [
      "<class 'pandas.core.frame.DataFrame'>\n",
      "RangeIndex: 364047 entries, 0 to 364046\n",
      "Data columns (total 5 columns):\n",
      " #   Column         Non-Null Count   Dtype\n",
      "---  ------         --------------   -----\n",
      " 0   article_id     364047 non-null  int64\n",
      " 1   category_id    364047 non-null  int64\n",
      " 2   created_at_ts  364047 non-null  int64\n",
      " 3   publisher_id   364047 non-null  int64\n",
      " 4   words_count    364047 non-null  int64\n",
      "dtypes: int64(5)\n",
      "memory usage: 13.9 MB\n"
     ]
    }
   ],
   "source": [
    "df[\"articles_metadata\"].info()"
   ]
  },
  {
   "cell_type": "markdown",
   "id": "523ef2bd",
   "metadata": {},
   "source": [
    "#### Description des colonnes"
   ]
  },
  {
   "cell_type": "markdown",
   "id": "cdb272e8",
   "metadata": {},
   "source": [
    "- **article_id** : identifiant de l'article\n",
    "- **category_id** : identifiant de la catégorie\n",
    "- **created_at_ts** : date de création\n",
    "- **publisher_id** : ne contient que la valeur 0\n",
    "- **words_count** : nombre de mots de l'article"
   ]
  },
  {
   "cell_type": "code",
   "execution_count": 63,
   "id": "ce9f03cf",
   "metadata": {},
   "outputs": [
    {
     "name": "stdout",
     "output_type": "stream",
     "text": [
      "Dans le jeu de données articles_metadata.csv, il y a :\n",
      "- 364047 articles\n",
      "- 461 catégories\n",
      "- 1 éditeurs\n"
     ]
    }
   ],
   "source": [
    "nb_articles = len(df[\"articles_metadata\"][\"article_id\"].unique())\n",
    "nb_categories = len(df[\"articles_metadata\"][\"category_id\"].unique())\n",
    "nb_publisher_id = len(df[\"articles_metadata\"][\"publisher_id\"].unique())\n",
    "\n",
    "print(\"Dans le jeu de données articles_metadata.csv, il y a :\")\n",
    "print(\"- {} articles\".format(nb_articles))\n",
    "print(\"- {} catégories\".format(nb_categories))\n",
    "print(\"- {} éditeurs\".format(nb_publisher_id))"
   ]
  },
  {
   "cell_type": "markdown",
   "id": "6b55d29a",
   "metadata": {},
   "source": [
    "#### Valeurs manquantes"
   ]
  },
  {
   "cell_type": "code",
   "execution_count": 26,
   "id": "e34688f2",
   "metadata": {},
   "outputs": [
    {
     "data": {
      "text/plain": [
       "article_id       0\n",
       "category_id      0\n",
       "created_at_ts    0\n",
       "publisher_id     0\n",
       "words_count      0\n",
       "dtype: int64"
      ]
     },
     "execution_count": 26,
     "metadata": {},
     "output_type": "execute_result"
    }
   ],
   "source": [
    "df[\"articles_metadata\"].isna().sum()"
   ]
  },
  {
   "cell_type": "markdown",
   "id": "3335aca3",
   "metadata": {},
   "source": [
    "Il n'y a pas de valeur manquante, excepté dans la colonne **publisher_id** où toutes les valeurs sont 0"
   ]
  },
  {
   "cell_type": "markdown",
   "id": "cfad6565",
   "metadata": {},
   "source": [
    "#### Colonne words_count"
   ]
  },
  {
   "cell_type": "code",
   "execution_count": 27,
   "id": "ba69fec4",
   "metadata": {},
   "outputs": [
    {
     "data": {
      "image/png": "[encoded data removed]",
      "text/plain": [
       "<Figure size 1296x648 with 1 Axes>"
      ]
     },
     "metadata": {
      "needs_background": "dark"
     },
     "output_type": "display_data"
    }
   ],
   "source": [
    "df[\"articles_metadata\"][\"words_count\"].hist(\n",
    "    figsize=(18,9),\n",
    "    bins=1000,\n",
    ")\n",
    "\n",
    "plt.xlabel(\"Nombre de mots\")\n",
    "plt.ylabel(\"Nombre d'articles\")\n",
    "plt.title(\"Nombre de mots par article\")\n",
    "plt.show()"
   ]
  },
  {
   "cell_type": "code",
   "execution_count": 30,
   "id": "ccb5c8f1",
   "metadata": {},
   "outputs": [
    {
     "name": "stderr",
     "output_type": "stream",
     "text": [
      "C:\\Users\\Utilisateur\\anaconda3\\envs\\OC_P09\\lib\\site-packages\\seaborn\\_decorators.py:36: FutureWarning: Pass the following variable as a keyword arg: x. From version 0.12, the only valid positional argument will be `data`, and passing other arguments without an explicit keyword will result in an error or misinterpretation.\n",
      "  warnings.warn(\n"
     ]
    },
    {
     "data": {
      "image/png": "[encoded data removed]",
      "text/plain": [
       "<Figure size 1296x648 with 1 Axes>"
      ]
     },
     "metadata": {
      "needs_background": "dark"
     },
     "output_type": "display_data"
    }
   ],
   "source": [
    "plt.figure(figsize=(18,9))\n",
    "sns.boxplot(\n",
    "    df['articles_metadata'][\"words_count\"]\n",
    ")\n",
    "plt.show()"
   ]
  },
  {
   "cell_type": "code",
   "execution_count": 7,
   "id": "fdc8d70e",
   "metadata": {},
   "outputs": [
    {
     "name": "stdout",
     "output_type": "stream",
     "text": [
      "La majorité des articles comprennent entre 70.5 et 306.5 mots\n"
     ]
    }
   ],
   "source": [
    "lim_inf, lim_sup = get_limits(df['articles_metadata'], \"words_count\")\n",
    "print(\"La majorité des articles comprennent entre {} et {} mots\".format(lim_inf, lim_sup))"
   ]
  },
  {
   "cell_type": "markdown",
   "id": "219fb99a",
   "metadata": {},
   "source": [
    "#### Colonne category_id"
   ]
  },
  {
   "cell_type": "code",
   "execution_count": 8,
   "id": "2b83bdbe",
   "metadata": {},
   "outputs": [
    {
     "name": "stdout",
     "output_type": "stream",
     "text": [
      "Il y a 461 catégories d'articles différentes\n"
     ]
    }
   ],
   "source": [
    "nb_cat = len(df['articles_metadata'][\"category_id\"].unique())\n",
    "print(\"Il y a {} catégories d'articles différentes\".format(nb_cat))"
   ]
  },
  {
   "cell_type": "code",
   "execution_count": 33,
   "id": "4ebaf527",
   "metadata": {},
   "outputs": [
    {
     "data": {
      "image/png": "[encoded data removed]",
      "text/plain": [
       "<Figure size 1296x648 with 1 Axes>"
      ]
     },
     "metadata": {
      "needs_background": "dark"
     },
     "output_type": "display_data"
    }
   ],
   "source": [
    "df['articles_metadata']['category_id'].hist(figsize=(18,9), bins=100)\n",
    "plt.xlabel(\"Identifiant de catégorie\")\n",
    "plt.ylabel(\"Nombre\")\n",
    "plt.title(\"Distribution des catégories\")\n",
    "plt.show()"
   ]
  },
  {
   "cell_type": "markdown",
   "id": "6a70cab1",
   "metadata": {},
   "source": [
    "### clicks_sample.csv"
   ]
  },
  {
   "cell_type": "markdown",
   "id": "ae8efcb9",
   "metadata": {},
   "source": [
    "Ce fichier est un échantillon des fichiers csv contenus dans clicks.zip"
   ]
  },
  {
   "cell_type": "code",
   "execution_count": 8,
   "id": "41ef9403",
   "metadata": {},
   "outputs": [
    {
     "data": {
      "text/html": [
       "<div>\n",
       "<style scoped>\n",
       "    .dataframe tbody tr th:only-of-type {\n",
       "        vertical-align: middle;\n",
       "    }\n",
       "\n",
       "    .dataframe tbody tr th {\n",
       "        vertical-align: top;\n",
       "    }\n",
       "\n",
       "    .dataframe thead th {\n",
       "        text-align: right;\n",
       "    }\n",
       "</style>\n",
       "<table border=\"1\" class=\"dataframe\">\n",
       "  <thead>\n",
       "    <tr style=\"text-align: right;\">\n",
       "      <th></th>\n",
       "      <th>user_id</th>\n",
       "      <th>session_id</th>\n",
       "      <th>session_start</th>\n",
       "      <th>session_size</th>\n",
       "      <th>click_article_id</th>\n",
       "      <th>click_timestamp</th>\n",
       "      <th>click_environment</th>\n",
       "      <th>click_deviceGroup</th>\n",
       "      <th>click_os</th>\n",
       "      <th>click_country</th>\n",
       "      <th>click_region</th>\n",
       "      <th>click_referrer_type</th>\n",
       "    </tr>\n",
       "  </thead>\n",
       "  <tbody>\n",
       "    <tr>\n",
       "      <th>0</th>\n",
       "      <td>0</td>\n",
       "      <td>1506825423271737</td>\n",
       "      <td>1506825423000</td>\n",
       "      <td>2</td>\n",
       "      <td>157541</td>\n",
       "      <td>1506826828020</td>\n",
       "      <td>4</td>\n",
       "      <td>3</td>\n",
       "      <td>20</td>\n",
       "      <td>1</td>\n",
       "      <td>20</td>\n",
       "      <td>2</td>\n",
       "    </tr>\n",
       "    <tr>\n",
       "      <th>1</th>\n",
       "      <td>0</td>\n",
       "      <td>1506825423271737</td>\n",
       "      <td>1506825423000</td>\n",
       "      <td>2</td>\n",
       "      <td>68866</td>\n",
       "      <td>1506826858020</td>\n",
       "      <td>4</td>\n",
       "      <td>3</td>\n",
       "      <td>20</td>\n",
       "      <td>1</td>\n",
       "      <td>20</td>\n",
       "      <td>2</td>\n",
       "    </tr>\n",
       "    <tr>\n",
       "      <th>2</th>\n",
       "      <td>1</td>\n",
       "      <td>1506825426267738</td>\n",
       "      <td>1506825426000</td>\n",
       "      <td>2</td>\n",
       "      <td>235840</td>\n",
       "      <td>1506827017951</td>\n",
       "      <td>4</td>\n",
       "      <td>1</td>\n",
       "      <td>17</td>\n",
       "      <td>1</td>\n",
       "      <td>16</td>\n",
       "      <td>2</td>\n",
       "    </tr>\n",
       "    <tr>\n",
       "      <th>3</th>\n",
       "      <td>1</td>\n",
       "      <td>1506825426267738</td>\n",
       "      <td>1506825426000</td>\n",
       "      <td>2</td>\n",
       "      <td>96663</td>\n",
       "      <td>1506827047951</td>\n",
       "      <td>4</td>\n",
       "      <td>1</td>\n",
       "      <td>17</td>\n",
       "      <td>1</td>\n",
       "      <td>16</td>\n",
       "      <td>2</td>\n",
       "    </tr>\n",
       "    <tr>\n",
       "      <th>4</th>\n",
       "      <td>2</td>\n",
       "      <td>1506825435299739</td>\n",
       "      <td>1506825435000</td>\n",
       "      <td>2</td>\n",
       "      <td>119592</td>\n",
       "      <td>1506827090575</td>\n",
       "      <td>4</td>\n",
       "      <td>1</td>\n",
       "      <td>17</td>\n",
       "      <td>1</td>\n",
       "      <td>24</td>\n",
       "      <td>2</td>\n",
       "    </tr>\n",
       "  </tbody>\n",
       "</table>\n",
       "</div>"
      ],
      "text/plain": [
       "   user_id        session_id  session_start  session_size  click_article_id  \\\n",
       "0        0  1506825423271737  1506825423000             2            157541   \n",
       "1        0  1506825423271737  1506825423000             2             68866   \n",
       "2        1  1506825426267738  1506825426000             2            235840   \n",
       "3        1  1506825426267738  1506825426000             2             96663   \n",
       "4        2  1506825435299739  1506825435000             2            119592   \n",
       "\n",
       "   click_timestamp  click_environment  click_deviceGroup  click_os  \\\n",
       "0    1506826828020                  4                  3        20   \n",
       "1    1506826858020                  4                  3        20   \n",
       "2    1506827017951                  4                  1        17   \n",
       "3    1506827047951                  4                  1        17   \n",
       "4    1506827090575                  4                  1        17   \n",
       "\n",
       "   click_country  click_region  click_referrer_type  \n",
       "0              1            20                    2  \n",
       "1              1            20                    2  \n",
       "2              1            16                    2  \n",
       "3              1            16                    2  \n",
       "4              1            24                    2  "
      ]
     },
     "execution_count": 8,
     "metadata": {},
     "output_type": "execute_result"
    }
   ],
   "source": [
    "df[\"clicks_sample\"] = pd.read_csv(\n",
    "    data_path + \"clicks_sample.csv\"\n",
    ")\n",
    "df[\"clicks_sample\"].head()"
   ]
  },
  {
   "cell_type": "markdown",
   "id": "3a4cb340",
   "metadata": {},
   "source": [
    "### clicks.csv"
   ]
  },
  {
   "cell_type": "code",
   "execution_count": 9,
   "id": "a7dfcab9",
   "metadata": {},
   "outputs": [],
   "source": [
    "df[\"clicks\"] = pd.DataFrame()\n",
    "clicks_path\n",
    "for f in os.listdir(clicks_path):\n",
    "    tmp_df = pd.read_csv(\n",
    "        clicks_path + f, \n",
    "        index_col=None,\n",
    "        header=0\n",
    "    )\n",
    "    df[\"clicks\"] = pd.concat(\n",
    "        [df[\"clicks\"], tmp_df], \n",
    "        axis=0,\n",
    "        ignore_index=True\n",
    "    )"
   ]
  },
  {
   "cell_type": "code",
   "execution_count": 252,
   "id": "5f73ce11",
   "metadata": {},
   "outputs": [
    {
     "data": {
      "text/html": [
       "<div>\n",
       "<style scoped>\n",
       "    .dataframe tbody tr th:only-of-type {\n",
       "        vertical-align: middle;\n",
       "    }\n",
       "\n",
       "    .dataframe tbody tr th {\n",
       "        vertical-align: top;\n",
       "    }\n",
       "\n",
       "    .dataframe thead th {\n",
       "        text-align: right;\n",
       "    }\n",
       "</style>\n",
       "<table border=\"1\" class=\"dataframe\">\n",
       "  <thead>\n",
       "    <tr style=\"text-align: right;\">\n",
       "      <th></th>\n",
       "      <th>user_id</th>\n",
       "      <th>session_id</th>\n",
       "      <th>session_start</th>\n",
       "      <th>session_size</th>\n",
       "      <th>click_article_id</th>\n",
       "      <th>click_timestamp</th>\n",
       "      <th>click_environment</th>\n",
       "      <th>click_deviceGroup</th>\n",
       "      <th>click_os</th>\n",
       "      <th>click_country</th>\n",
       "      <th>click_region</th>\n",
       "      <th>click_referrer_type</th>\n",
       "    </tr>\n",
       "  </thead>\n",
       "  <tbody>\n",
       "    <tr>\n",
       "      <th>0</th>\n",
       "      <td>0</td>\n",
       "      <td>1506825423271737</td>\n",
       "      <td>1506825423000</td>\n",
       "      <td>2</td>\n",
       "      <td>157541</td>\n",
       "      <td>1506826828020</td>\n",
       "      <td>4</td>\n",
       "      <td>3</td>\n",
       "      <td>20</td>\n",
       "      <td>1</td>\n",
       "      <td>20</td>\n",
       "      <td>2</td>\n",
       "    </tr>\n",
       "    <tr>\n",
       "      <th>1</th>\n",
       "      <td>0</td>\n",
       "      <td>1506825423271737</td>\n",
       "      <td>1506825423000</td>\n",
       "      <td>2</td>\n",
       "      <td>68866</td>\n",
       "      <td>1506826858020</td>\n",
       "      <td>4</td>\n",
       "      <td>3</td>\n",
       "      <td>20</td>\n",
       "      <td>1</td>\n",
       "      <td>20</td>\n",
       "      <td>2</td>\n",
       "    </tr>\n",
       "    <tr>\n",
       "      <th>2</th>\n",
       "      <td>1</td>\n",
       "      <td>1506825426267738</td>\n",
       "      <td>1506825426000</td>\n",
       "      <td>2</td>\n",
       "      <td>235840</td>\n",
       "      <td>1506827017951</td>\n",
       "      <td>4</td>\n",
       "      <td>1</td>\n",
       "      <td>17</td>\n",
       "      <td>1</td>\n",
       "      <td>16</td>\n",
       "      <td>2</td>\n",
       "    </tr>\n",
       "    <tr>\n",
       "      <th>3</th>\n",
       "      <td>1</td>\n",
       "      <td>1506825426267738</td>\n",
       "      <td>1506825426000</td>\n",
       "      <td>2</td>\n",
       "      <td>96663</td>\n",
       "      <td>1506827047951</td>\n",
       "      <td>4</td>\n",
       "      <td>1</td>\n",
       "      <td>17</td>\n",
       "      <td>1</td>\n",
       "      <td>16</td>\n",
       "      <td>2</td>\n",
       "    </tr>\n",
       "    <tr>\n",
       "      <th>4</th>\n",
       "      <td>2</td>\n",
       "      <td>1506825435299739</td>\n",
       "      <td>1506825435000</td>\n",
       "      <td>2</td>\n",
       "      <td>119592</td>\n",
       "      <td>1506827090575</td>\n",
       "      <td>4</td>\n",
       "      <td>1</td>\n",
       "      <td>17</td>\n",
       "      <td>1</td>\n",
       "      <td>24</td>\n",
       "      <td>2</td>\n",
       "    </tr>\n",
       "  </tbody>\n",
       "</table>\n",
       "</div>"
      ],
      "text/plain": [
       "  user_id        session_id  session_start session_size click_article_id  \\\n",
       "0       0  1506825423271737  1506825423000            2           157541   \n",
       "1       0  1506825423271737  1506825423000            2            68866   \n",
       "2       1  1506825426267738  1506825426000            2           235840   \n",
       "3       1  1506825426267738  1506825426000            2            96663   \n",
       "4       2  1506825435299739  1506825435000            2           119592   \n",
       "\n",
       "  click_timestamp click_environment click_deviceGroup click_os click_country  \\\n",
       "0   1506826828020                 4                 3       20             1   \n",
       "1   1506826858020                 4                 3       20             1   \n",
       "2   1506827017951                 4                 1       17             1   \n",
       "3   1506827047951                 4                 1       17             1   \n",
       "4   1506827090575                 4                 1       17             1   \n",
       "\n",
       "  click_region click_referrer_type  \n",
       "0           20                   2  \n",
       "1           20                   2  \n",
       "2           16                   2  \n",
       "3           16                   2  \n",
       "4           24                   2  "
      ]
     },
     "execution_count": 252,
     "metadata": {},
     "output_type": "execute_result"
    }
   ],
   "source": [
    "df[\"clicks\"].head()"
   ]
  },
  {
   "cell_type": "code",
   "execution_count": 33,
   "id": "6d8e4fca",
   "metadata": {},
   "outputs": [
    {
     "data": {
      "text/html": [
       "<div>\n",
       "<style scoped>\n",
       "    .dataframe tbody tr th:only-of-type {\n",
       "        vertical-align: middle;\n",
       "    }\n",
       "\n",
       "    .dataframe tbody tr th {\n",
       "        vertical-align: top;\n",
       "    }\n",
       "\n",
       "    .dataframe thead th {\n",
       "        text-align: right;\n",
       "    }\n",
       "</style>\n",
       "<table border=\"1\" class=\"dataframe\">\n",
       "  <thead>\n",
       "    <tr style=\"text-align: right;\">\n",
       "      <th></th>\n",
       "      <th>user_id</th>\n",
       "      <th>session_id</th>\n",
       "      <th>session_start</th>\n",
       "      <th>session_size</th>\n",
       "      <th>click_article_id</th>\n",
       "      <th>click_timestamp</th>\n",
       "      <th>click_environment</th>\n",
       "      <th>click_deviceGroup</th>\n",
       "      <th>click_os</th>\n",
       "      <th>click_country</th>\n",
       "      <th>click_region</th>\n",
       "      <th>click_referrer_type</th>\n",
       "    </tr>\n",
       "  </thead>\n",
       "  <tbody>\n",
       "    <tr>\n",
       "      <th>count</th>\n",
       "      <td>2988181</td>\n",
       "      <td>2988181</td>\n",
       "      <td>2988181</td>\n",
       "      <td>2988181</td>\n",
       "      <td>2988181</td>\n",
       "      <td>2988181</td>\n",
       "      <td>2988181</td>\n",
       "      <td>2988181</td>\n",
       "      <td>2988181</td>\n",
       "      <td>2988181</td>\n",
       "      <td>2988181</td>\n",
       "      <td>2988181</td>\n",
       "    </tr>\n",
       "    <tr>\n",
       "      <th>unique</th>\n",
       "      <td>322897</td>\n",
       "      <td>1048594</td>\n",
       "      <td>646874</td>\n",
       "      <td>72</td>\n",
       "      <td>46033</td>\n",
       "      <td>2983198</td>\n",
       "      <td>3</td>\n",
       "      <td>5</td>\n",
       "      <td>8</td>\n",
       "      <td>11</td>\n",
       "      <td>28</td>\n",
       "      <td>7</td>\n",
       "    </tr>\n",
       "    <tr>\n",
       "      <th>top</th>\n",
       "      <td>5890</td>\n",
       "      <td>1507563657895091</td>\n",
       "      <td>1507563657000</td>\n",
       "      <td>2</td>\n",
       "      <td>160974</td>\n",
       "      <td>1506961009961</td>\n",
       "      <td>4</td>\n",
       "      <td>1</td>\n",
       "      <td>17</td>\n",
       "      <td>1</td>\n",
       "      <td>25</td>\n",
       "      <td>2</td>\n",
       "    </tr>\n",
       "    <tr>\n",
       "      <th>freq</th>\n",
       "      <td>1232</td>\n",
       "      <td>124</td>\n",
       "      <td>127</td>\n",
       "      <td>1260372</td>\n",
       "      <td>37213</td>\n",
       "      <td>3</td>\n",
       "      <td>2904478</td>\n",
       "      <td>1823162</td>\n",
       "      <td>1738138</td>\n",
       "      <td>2852406</td>\n",
       "      <td>804985</td>\n",
       "      <td>1602601</td>\n",
       "    </tr>\n",
       "  </tbody>\n",
       "</table>\n",
       "</div>"
      ],
      "text/plain": [
       "        user_id        session_id  session_start  session_size  \\\n",
       "count   2988181           2988181        2988181       2988181   \n",
       "unique   322897           1048594         646874            72   \n",
       "top        5890  1507563657895091  1507563657000             2   \n",
       "freq       1232               124            127       1260372   \n",
       "\n",
       "        click_article_id  click_timestamp  click_environment  \\\n",
       "count            2988181          2988181            2988181   \n",
       "unique             46033          2983198                  3   \n",
       "top               160974    1506961009961                  4   \n",
       "freq               37213                3            2904478   \n",
       "\n",
       "        click_deviceGroup  click_os  click_country  click_region  \\\n",
       "count             2988181   2988181        2988181       2988181   \n",
       "unique                  5         8             11            28   \n",
       "top                     1        17              1            25   \n",
       "freq              1823162   1738138        2852406        804985   \n",
       "\n",
       "        click_referrer_type  \n",
       "count               2988181  \n",
       "unique                    7  \n",
       "top                       2  \n",
       "freq                1602601  "
      ]
     },
     "execution_count": 33,
     "metadata": {},
     "output_type": "execute_result"
    }
   ],
   "source": [
    "df[\"clicks\"].describe()"
   ]
  },
  {
   "cell_type": "code",
   "execution_count": 45,
   "id": "54b30031",
   "metadata": {},
   "outputs": [
    {
     "name": "stdout",
     "output_type": "stream",
     "text": [
      "Le nombre total de sessions est de  1048594\n",
      "Le nombre total d'utilisateurs est de  322897\n",
      "Le nombre total de clics est de  2983198\n"
     ]
    }
   ],
   "source": [
    "print(\"Le nombre total de sessions est de \", len(df[\"clicks\"][\"session_id\"].unique()))\n",
    "print(\"Le nombre total d'utilisateurs est de \", len(df[\"clicks\"][\"user_id\"].unique()))\n",
    "print(\"Le nombre total de clics est de \", len(df[\"clicks\"][\"click_timestamp\"].unique()))"
   ]
  },
  {
   "cell_type": "code",
   "execution_count": 46,
   "id": "d1b67872",
   "metadata": {},
   "outputs": [],
   "source": [
    "df[\"clicks\"].to_csv(data_path+\"clicks.csv\", sep='\\t', index=False)"
   ]
  },
  {
   "cell_type": "markdown",
   "id": "6a88b81f",
   "metadata": {},
   "source": [
    "Nous allons regrouper chaque clic par utilisateur :"
   ]
  },
  {
   "cell_type": "code",
   "execution_count": 10,
   "id": "a4d468e8",
   "metadata": {},
   "outputs": [
    {
     "data": {
      "text/html": [
       "<div>\n",
       "<style scoped>\n",
       "    .dataframe tbody tr th:only-of-type {\n",
       "        vertical-align: middle;\n",
       "    }\n",
       "\n",
       "    .dataframe tbody tr th {\n",
       "        vertical-align: top;\n",
       "    }\n",
       "\n",
       "    .dataframe thead th {\n",
       "        text-align: right;\n",
       "    }\n",
       "</style>\n",
       "<table border=\"1\" class=\"dataframe\">\n",
       "  <thead>\n",
       "    <tr style=\"text-align: right;\">\n",
       "      <th></th>\n",
       "      <th>LIST_click_article_id</th>\n",
       "    </tr>\n",
       "    <tr>\n",
       "      <th>user_id</th>\n",
       "      <th></th>\n",
       "    </tr>\n",
       "  </thead>\n",
       "  <tbody>\n",
       "    <tr>\n",
       "      <th>0</th>\n",
       "      <td>[157541, 68866, 96755, 313996, 160158, 233470,...</td>\n",
       "    </tr>\n",
       "    <tr>\n",
       "      <th>1</th>\n",
       "      <td>[235840, 96663, 59758, 160474, 285719, 156723,...</td>\n",
       "    </tr>\n",
       "    <tr>\n",
       "      <th>2</th>\n",
       "      <td>[119592, 30970, 30760, 209122]</td>\n",
       "    </tr>\n",
       "    <tr>\n",
       "      <th>3</th>\n",
       "      <td>[236065, 236294, 234686, 233769, 235665, 23513...</td>\n",
       "    </tr>\n",
       "    <tr>\n",
       "      <th>4</th>\n",
       "      <td>[48915, 44488, 195887, 195084, 63307, 336499, ...</td>\n",
       "    </tr>\n",
       "    <tr>\n",
       "      <th>...</th>\n",
       "      <td>...</td>\n",
       "    </tr>\n",
       "    <tr>\n",
       "      <th>322892</th>\n",
       "      <td>[42567, 39894]</td>\n",
       "    </tr>\n",
       "    <tr>\n",
       "      <th>322893</th>\n",
       "      <td>[50644, 36162]</td>\n",
       "    </tr>\n",
       "    <tr>\n",
       "      <th>322894</th>\n",
       "      <td>[36162, 168401]</td>\n",
       "    </tr>\n",
       "    <tr>\n",
       "      <th>322895</th>\n",
       "      <td>[289197, 63746]</td>\n",
       "    </tr>\n",
       "    <tr>\n",
       "      <th>322896</th>\n",
       "      <td>[30760, 157507]</td>\n",
       "    </tr>\n",
       "  </tbody>\n",
       "</table>\n",
       "<p>322897 rows × 1 columns</p>\n",
       "</div>"
      ],
      "text/plain": [
       "                                     LIST_click_article_id\n",
       "user_id                                                   \n",
       "0        [157541, 68866, 96755, 313996, 160158, 233470,...\n",
       "1        [235840, 96663, 59758, 160474, 285719, 156723,...\n",
       "2                           [119592, 30970, 30760, 209122]\n",
       "3        [236065, 236294, 234686, 233769, 235665, 23513...\n",
       "4        [48915, 44488, 195887, 195084, 63307, 336499, ...\n",
       "...                                                    ...\n",
       "322892                                      [42567, 39894]\n",
       "322893                                      [50644, 36162]\n",
       "322894                                     [36162, 168401]\n",
       "322895                                     [289197, 63746]\n",
       "322896                                     [30760, 157507]\n",
       "\n",
       "[322897 rows x 1 columns]"
      ]
     },
     "execution_count": 10,
     "metadata": {},
     "output_type": "execute_result"
    }
   ],
   "source": [
    "df[\"clicks_by_user\"] = df[\"clicks\"].groupby('user_id').agg(\n",
    "    LIST_click_article_id = ('click_article_id', lambda x: list(x)),\n",
    ")\n",
    "df[\"clicks_by_user\"]"
   ]
  },
  {
   "cell_type": "code",
   "execution_count": 11,
   "id": "15024c0e",
   "metadata": {},
   "outputs": [],
   "source": [
    "file_path = data_path + \"clicks_by_user.sav\"\n",
    "\n",
    "if not os.path.exists(file_path):\n",
    "    \n",
    "    df[\"clicks_by_user\"][\"categories\"] = \"\"\n",
    "    \n",
    "    for index, row in df[\"clicks_by_user\"].iterrows():\n",
    "        ls_row = []\n",
    "        for article in row[\"LIST_click_article_id\"]:\n",
    "            ls_row.append(\n",
    "                df[\"articles_metadata\"][df[\"articles_metadata\"][\"article_id\"] == article][\"category_id\"].values[0]\n",
    "            )\n",
    "        df[\"clicks_by_user\"].loc[index][\"categories\"] = ls_row\n",
    "    pickle.dump(df[\"clicks_by_user\"], open(file_path, \"wb\"))\n",
    "else:\n",
    "    df[\"clicks_by_user\"] = pickle.load(open(file_path, \"rb\"))"
   ]
  },
  {
   "cell_type": "code",
   "execution_count": 12,
   "id": "33b57ede",
   "metadata": {},
   "outputs": [],
   "source": [
    "pickle.dump(df, open(\"df.sav\", \"wb\"))"
   ]
  },
  {
   "cell_type": "code",
   "execution_count": 12,
   "id": "a61d7ddc",
   "metadata": {},
   "outputs": [
    {
     "data": {
      "text/html": [
       "<div>\n",
       "<style scoped>\n",
       "    .dataframe tbody tr th:only-of-type {\n",
       "        vertical-align: middle;\n",
       "    }\n",
       "\n",
       "    .dataframe tbody tr th {\n",
       "        vertical-align: top;\n",
       "    }\n",
       "\n",
       "    .dataframe thead th {\n",
       "        text-align: right;\n",
       "    }\n",
       "</style>\n",
       "<table border=\"1\" class=\"dataframe\">\n",
       "  <thead>\n",
       "    <tr style=\"text-align: right;\">\n",
       "      <th></th>\n",
       "      <th>LIST_click_article_id</th>\n",
       "      <th>categories</th>\n",
       "    </tr>\n",
       "    <tr>\n",
       "      <th>user_id</th>\n",
       "      <th></th>\n",
       "      <th></th>\n",
       "    </tr>\n",
       "  </thead>\n",
       "  <tbody>\n",
       "    <tr>\n",
       "      <th>0</th>\n",
       "      <td>[157541, 68866, 96755, 313996, 160158, 233470,...</td>\n",
       "      <td>[281, 136, 209, 431, 281, 375, 186, 186]</td>\n",
       "    </tr>\n",
       "    <tr>\n",
       "      <th>1</th>\n",
       "      <td>[235840, 96663, 59758, 160474, 285719, 156723,...</td>\n",
       "      <td>[375, 209, 123, 281, 412, 281, 331, 412, 435, ...</td>\n",
       "    </tr>\n",
       "    <tr>\n",
       "      <th>2</th>\n",
       "      <td>[119592, 30970, 30760, 209122]</td>\n",
       "      <td>[247, 26, 26, 332]</td>\n",
       "    </tr>\n",
       "    <tr>\n",
       "      <th>3</th>\n",
       "      <td>[236065, 236294, 234686, 233769, 235665, 23513...</td>\n",
       "      <td>[375, 375, 375, 375, 375, 375, 281, 375, 375, ...</td>\n",
       "    </tr>\n",
       "    <tr>\n",
       "      <th>4</th>\n",
       "      <td>[48915, 44488, 195887, 195084, 63307, 336499, ...</td>\n",
       "      <td>[92, 81, 317, 317, 132, 437, 399]</td>\n",
       "    </tr>\n",
       "    <tr>\n",
       "      <th>...</th>\n",
       "      <td>...</td>\n",
       "      <td>...</td>\n",
       "    </tr>\n",
       "    <tr>\n",
       "      <th>322892</th>\n",
       "      <td>[42567, 39894]</td>\n",
       "      <td>[67, 66]</td>\n",
       "    </tr>\n",
       "    <tr>\n",
       "      <th>322893</th>\n",
       "      <td>[50644, 36162]</td>\n",
       "      <td>[99, 43]</td>\n",
       "    </tr>\n",
       "    <tr>\n",
       "      <th>322894</th>\n",
       "      <td>[36162, 168401]</td>\n",
       "      <td>[43, 297]</td>\n",
       "    </tr>\n",
       "    <tr>\n",
       "      <th>322895</th>\n",
       "      <td>[289197, 63746]</td>\n",
       "      <td>[418, 133]</td>\n",
       "    </tr>\n",
       "    <tr>\n",
       "      <th>322896</th>\n",
       "      <td>[30760, 157507]</td>\n",
       "      <td>[26, 281]</td>\n",
       "    </tr>\n",
       "  </tbody>\n",
       "</table>\n",
       "<p>322897 rows × 2 columns</p>\n",
       "</div>"
      ],
      "text/plain": [
       "                                     LIST_click_article_id  \\\n",
       "user_id                                                      \n",
       "0        [157541, 68866, 96755, 313996, 160158, 233470,...   \n",
       "1        [235840, 96663, 59758, 160474, 285719, 156723,...   \n",
       "2                           [119592, 30970, 30760, 209122]   \n",
       "3        [236065, 236294, 234686, 233769, 235665, 23513...   \n",
       "4        [48915, 44488, 195887, 195084, 63307, 336499, ...   \n",
       "...                                                    ...   \n",
       "322892                                      [42567, 39894]   \n",
       "322893                                      [50644, 36162]   \n",
       "322894                                     [36162, 168401]   \n",
       "322895                                     [289197, 63746]   \n",
       "322896                                     [30760, 157507]   \n",
       "\n",
       "                                                categories  \n",
       "user_id                                                     \n",
       "0                 [281, 136, 209, 431, 281, 375, 186, 186]  \n",
       "1        [375, 209, 123, 281, 412, 281, 331, 412, 435, ...  \n",
       "2                                       [247, 26, 26, 332]  \n",
       "3        [375, 375, 375, 375, 375, 375, 281, 375, 375, ...  \n",
       "4                        [92, 81, 317, 317, 132, 437, 399]  \n",
       "...                                                    ...  \n",
       "322892                                            [67, 66]  \n",
       "322893                                            [99, 43]  \n",
       "322894                                           [43, 297]  \n",
       "322895                                          [418, 133]  \n",
       "322896                                           [26, 281]  \n",
       "\n",
       "[322897 rows x 2 columns]"
      ]
     },
     "execution_count": 12,
     "metadata": {},
     "output_type": "execute_result"
    }
   ],
   "source": [
    "df[\"clicks_by_user\"]"
   ]
  },
  {
   "cell_type": "markdown",
   "id": "35b41ab6",
   "metadata": {},
   "source": [
    "### Articles Embeddings"
   ]
  },
  {
   "cell_type": "markdown",
   "id": "200708db",
   "metadata": {},
   "source": [
    "Il s'agit d'une matrice numpy contenant les plongements (embeddings) des articles entraînés sur les textes et les données des articles. Il s'agit de vecteurs de dimension 250"
   ]
  },
  {
   "cell_type": "code",
   "execution_count": 37,
   "id": "70631d30",
   "metadata": {},
   "outputs": [],
   "source": [
    "articles_embeddings = pd.read_pickle(data_path + \"articles_embeddings.pickle\")"
   ]
  },
  {
   "cell_type": "code",
   "execution_count": 66,
   "id": "43a660b1",
   "metadata": {},
   "outputs": [
    {
     "name": "stdout",
     "output_type": "stream",
     "text": [
      "(364047, 250)\n"
     ]
    }
   ],
   "source": [
    "print(articles_embeddings.shape)"
   ]
  },
  {
   "cell_type": "code",
   "execution_count": 68,
   "id": "dd05d9ea",
   "metadata": {
    "scrolled": true
   },
   "outputs": [
    {
     "data": {
      "text/plain": [
       "array([-0.16118301, -0.95723313, -0.13794445,  0.05085534,  0.83005524,\n",
       "        0.90136534, -0.33514765, -0.55956066, -0.50060284,  0.16518293,\n",
       "        0.4284342 ,  0.3550556 ,  0.87443674, -0.52888286,  0.6254872 ,\n",
       "        0.2689198 , -0.8228351 , -0.703853  , -0.62584543, -0.15285493,\n",
       "       -0.6662412 ,  0.04329487,  0.1786375 ,  0.04689008,  0.5945311 ,\n",
       "       -0.18334764,  0.19510683, -0.46763963, -0.30480695,  0.35317516,\n",
       "        0.27818817,  0.5386231 , -0.37120935,  0.48989806, -0.10383289,\n",
       "        0.11917368,  0.13243659, -0.62108386, -0.45331132,  0.34662652,\n",
       "       -0.06174106, -0.7305939 , -0.38411567, -0.94075835,  0.06134219,\n",
       "        0.4825816 ,  0.28968322, -0.62269634, -0.05000444,  0.42151213,\n",
       "       -0.24257636,  0.6687105 , -0.509004  , -0.46179956,  0.04390178,\n",
       "        0.28848746,  0.4498246 , -0.28486234,  0.916729  ,  0.70312876,\n",
       "        0.85167396, -0.6272441 ,  0.35773164,  0.3901894 ,  0.65293527,\n",
       "        0.1036527 ,  0.79829276, -0.10254639, -0.2045143 ,  0.37861153,\n",
       "       -0.09026147, -0.2511573 ,  0.3259828 ,  0.08588007, -0.18056485,\n",
       "        0.04752322, -0.15973987, -0.6201472 ,  0.3003347 , -0.7965467 ,\n",
       "        0.47771874,  0.40991876,  0.32778588,  0.07257079, -0.84338844,\n",
       "        0.5743214 ,  0.33120632,  0.73519886, -0.05114948, -0.42130408,\n",
       "       -0.9015315 , -0.30527022, -0.13556914, -0.46817523, -0.256514  ,\n",
       "       -0.02803535,  0.29472083, -0.06734743, -0.46152946,  0.07213261,\n",
       "       -0.5707245 , -0.05998378, -0.5503721 , -0.6039815 ,  0.40252253,\n",
       "       -0.3064805 ,  0.3307103 ,  0.14233193,  0.33290517,  0.23447387,\n",
       "        0.6906535 ,  0.48634282,  0.42737266, -0.1159763 ,  0.3854025 ,\n",
       "        0.3957128 , -0.65858316, -0.55600464,  0.7825072 ,  0.12878653,\n",
       "        0.6511364 , -0.20835122, -0.5025915 ,  0.42170998, -0.31492347,\n",
       "       -0.02744605, -0.24444908,  0.80920833,  0.18782361,  0.16195548,\n",
       "       -0.14996661, -0.7144809 , -0.00697921, -0.31291643,  0.94464755,\n",
       "        0.24019346, -0.17193855, -0.71315813,  0.01460485,  0.29979667,\n",
       "       -0.7239213 , -0.37642562,  0.68271834, -0.603598  , -0.5735651 ,\n",
       "       -0.4823226 , -0.6750509 ,  0.12579046, -0.08218385, -0.46767712,\n",
       "        0.87283933,  0.35769752,  0.79911405, -0.7901175 ,  0.49681464,\n",
       "        0.5684371 , -0.34781384,  0.6503434 , -0.5989994 ,  0.42142177,\n",
       "        0.10738157, -0.46030676,  0.30180693, -0.3994389 , -0.03487772,\n",
       "        0.12320779, -0.00179706, -0.21508627, -0.40875113,  0.20472752,\n",
       "       -0.60365415, -0.22466736, -0.42120966,  0.6471822 , -0.33045855,\n",
       "       -0.29070365, -0.05361752,  0.5163881 ,  0.33017814,  0.37607408,\n",
       "       -0.17617662, -0.56767094, -0.00996806, -0.4003482 , -0.49794638,\n",
       "       -0.22630718, -0.57593477, -0.365481  ,  0.29230362,  0.68888617,\n",
       "        0.87204033, -0.05710741, -0.3094548 , -0.42777112, -0.6890967 ,\n",
       "        0.65392166, -0.4179235 , -0.13035183, -0.9389396 , -0.61100435,\n",
       "        0.56593966, -0.00279831, -0.04636448,  0.59413934,  0.16963427,\n",
       "        0.2505927 , -0.06282282, -0.40642437,  0.17572297, -0.25898445,\n",
       "        0.7643812 ,  0.27564424, -0.69213825, -0.3932401 , -0.32569295,\n",
       "        0.16337723, -0.15495214, -0.7016393 ,  0.711825  , -0.8390629 ,\n",
       "       -0.4591448 ,  0.9199131 ,  0.62183356, -0.64047134,  0.38993424,\n",
       "        0.76417774,  0.16485116, -0.7470226 ,  0.41103414,  0.7509008 ,\n",
       "        0.8606434 ,  0.61475503,  0.54965967,  0.33443713, -0.38805893,\n",
       "       -0.70372987, -0.5674205 ,  0.00647845, -0.20659018, -0.3852717 ,\n",
       "        0.3212482 ,  0.31399873,  0.6364123 ,  0.16917853,  0.540524  ,\n",
       "       -0.8131821 ,  0.28687033, -0.231686  ,  0.5974159 ,  0.40962312],\n",
       "      dtype=float32)"
      ]
     },
     "execution_count": 68,
     "metadata": {},
     "output_type": "execute_result"
    }
   ],
   "source": [
    "articles_embeddings[0]"
   ]
  },
  {
   "cell_type": "markdown",
   "id": "19bfc62f",
   "metadata": {},
   "source": [
    "## Fusion de clicks et articles_metadata"
   ]
  },
  {
   "cell_type": "code",
   "execution_count": 14,
   "id": "e39a086a",
   "metadata": {},
   "outputs": [],
   "source": [
    "df[\"user_article\"] = df[\"clicks\"].merge(\n",
    "    df[\"articles_metadata\"],\n",
    "    left_on=\"click_article_id\",\n",
    "    right_on=\"article_id\"\n",
    ")"
   ]
  },
  {
   "cell_type": "code",
   "execution_count": 70,
   "id": "13cc461b",
   "metadata": {},
   "outputs": [
    {
     "name": "stdout",
     "output_type": "stream",
     "text": [
      "<class 'pandas.core.frame.DataFrame'>\n",
      "Int64Index: 2988181 entries, 0 to 2988180\n",
      "Data columns (total 17 columns):\n",
      " #   Column               Dtype \n",
      "---  ------               ----- \n",
      " 0   user_id              object\n",
      " 1   session_id           object\n",
      " 2   session_start        object\n",
      " 3   session_size         object\n",
      " 4   click_article_id     object\n",
      " 5   click_timestamp      object\n",
      " 6   click_environment    object\n",
      " 7   click_deviceGroup    object\n",
      " 8   click_os             object\n",
      " 9   click_country        object\n",
      " 10  click_region         object\n",
      " 11  click_referrer_type  object\n",
      " 12  article_id           int64 \n",
      " 13  category_id          int64 \n",
      " 14  created_at_ts        int64 \n",
      " 15  publisher_id         int64 \n",
      " 16  words_count          int64 \n",
      "dtypes: int64(5), object(12)\n",
      "memory usage: 410.4+ MB\n"
     ]
    }
   ],
   "source": [
    "df[\"user_article\"].info()"
   ]
  },
  {
   "cell_type": "code",
   "execution_count": 78,
   "id": "62aab030",
   "metadata": {},
   "outputs": [
    {
     "data": {
      "text/plain": [
       "(2988181, 17)"
      ]
     },
     "execution_count": 78,
     "metadata": {},
     "output_type": "execute_result"
    }
   ],
   "source": [
    "df[\"user_article\"].shape"
   ]
  },
  {
   "cell_type": "markdown",
   "id": "fc0db1f9",
   "metadata": {},
   "source": [
    "Explorons maintenant ce dataset :"
   ]
  },
  {
   "cell_type": "markdown",
   "id": "fc005705",
   "metadata": {},
   "source": [
    "#### Nombre d'utilisateurs"
   ]
  },
  {
   "cell_type": "code",
   "execution_count": 74,
   "id": "b714cc81",
   "metadata": {},
   "outputs": [
    {
     "name": "stdout",
     "output_type": "stream",
     "text": [
      "Nombre d'utilisateurs :  322897\n"
     ]
    }
   ],
   "source": [
    "nb_users = df[\"user_article\"][\"user_id\"].nunique()\n",
    "print(\"Nombre d'utilisateurs : \", nb_users)"
   ]
  },
  {
   "cell_type": "markdown",
   "id": "bb50231e",
   "metadata": {},
   "source": [
    "#### Nombre d'articles"
   ]
  },
  {
   "cell_type": "code",
   "execution_count": 75,
   "id": "0783eb04",
   "metadata": {},
   "outputs": [
    {
     "name": "stdout",
     "output_type": "stream",
     "text": [
      "Nombre d'articles :  46033\n"
     ]
    }
   ],
   "source": [
    "nb_articles = df[\"user_article\"][\"article_id\"].nunique()\n",
    "print(\"Nombre d'articles : \", nb_articles)"
   ]
  },
  {
   "cell_type": "markdown",
   "id": "1a401245",
   "metadata": {},
   "source": [
    "#### Nombre de catégories"
   ]
  },
  {
   "cell_type": "code",
   "execution_count": 76,
   "id": "5e79e4b9",
   "metadata": {},
   "outputs": [
    {
     "name": "stdout",
     "output_type": "stream",
     "text": [
      "Nombre d'articles :  316\n"
     ]
    }
   ],
   "source": [
    "nb_cats = df[\"user_article\"][\"category_id\"].nunique()\n",
    "print(\"Nombre d'articles : \", nb_cats)"
   ]
  },
  {
   "cell_type": "markdown",
   "id": "a5f048f0",
   "metadata": {},
   "source": [
    "### Répartition du nombre de clics par session"
   ]
  },
  {
   "cell_type": "code",
   "execution_count": 80,
   "id": "2104ac2d",
   "metadata": {},
   "outputs": [
    {
     "data": {
      "text/plain": [
       "124"
      ]
     },
     "execution_count": 80,
     "metadata": {},
     "output_type": "execute_result"
    }
   ],
   "source": [
    "np.max(df['user_article']['session_size'])"
   ]
  },
  {
   "cell_type": "code",
   "execution_count": 88,
   "id": "5fa2de61",
   "metadata": {},
   "outputs": [
    {
     "data": {
      "image/png": "[encoded data removed]",
      "text/plain": [
       "<Figure size 1296x648 with 1 Axes>"
      ]
     },
     "metadata": {
      "needs_background": "dark"
     },
     "output_type": "display_data"
    }
   ],
   "source": [
    "df['user_article']['session_size'].hist(figsize=(18,9), bins=100)\n",
    "plt.xlabel(\"Nombre de clics par session\")\n",
    "plt.ylabel(\"Nombre de sessions\")\n",
    "plt.title(\"Nombre de clics\")\n",
    "plt.show()"
   ]
  },
  {
   "cell_type": "markdown",
   "id": "4b003afd",
   "metadata": {},
   "source": [
    "Nous allons zoomer un peu pour voir un peu mieux le nombre de clics par session le plus courrant"
   ]
  },
  {
   "cell_type": "code",
   "execution_count": 87,
   "id": "71ed9735",
   "metadata": {},
   "outputs": [
    {
     "data": {
      "image/png": "[encoded data removed]",
      "text/plain": [
       "<Figure size 1296x648 with 1 Axes>"
      ]
     },
     "metadata": {
      "needs_background": "dark"
     },
     "output_type": "display_data"
    }
   ],
   "source": [
    "df['user_article']['session_size'].hist(figsize=(18,9), bins=124)\n",
    "plt.xlim([0,20])\n",
    "plt.xlabel(\"Nombre de clics\")\n",
    "plt.ylabel(\"Nombre de sessions\")\n",
    "plt.title(\"Nombre de clics par session\")\n",
    "plt.show()"
   ]
  },
  {
   "cell_type": "markdown",
   "id": "a97f34e2",
   "metadata": {},
   "source": [
    "### Répartition du nombre d'articles lus par utilisateur"
   ]
  },
  {
   "cell_type": "code",
   "execution_count": 91,
   "id": "023e906f",
   "metadata": {},
   "outputs": [
    {
     "data": {
      "text/plain": [
       "101518"
      ]
     },
     "execution_count": 91,
     "metadata": {},
     "output_type": "execute_result"
    }
   ],
   "source": [
    "np.max(df['user_article'].groupby(by=\"user_id\")['click_article_id'].nunique().value_counts())"
   ]
  },
  {
   "cell_type": "code",
   "execution_count": 96,
   "id": "99ffa159",
   "metadata": {},
   "outputs": [
    {
     "data": {
      "text/plain": [
       "(0.0, 100.0)"
      ]
     },
     "execution_count": 96,
     "metadata": {},
     "output_type": "execute_result"
    },
    {
     "data": {
      "image/png": "[encoded data removed]",
      "text/plain": [
       "<Figure size 1296x648 with 1 Axes>"
      ]
     },
     "metadata": {
      "needs_background": "dark"
     },
     "output_type": "display_data"
    }
   ],
   "source": [
    "df['user_article'].groupby(by=\"user_id\")['click_article_id'].nunique().value_counts().plot(\n",
    "    figsize=(18,9),\n",
    "    kind = 'bar', \n",
    "    title=\"Nombre d'articles lus par utilisateur\", \n",
    "    xticks=range(0, 100, 10), \n",
    "    xlabel = \"Nombre d'articles lus\", \n",
    "    ylabel=\"Nombre d'utilisateurs\"\n",
    ")\n",
    "plt.xlim(0,100)"
   ]
  },
  {
   "cell_type": "code",
   "execution_count": 363,
   "id": "298a895d",
   "metadata": {},
   "outputs": [],
   "source": [
    "pickle.dump(df, open(\"df.sav\", \"wb\"))"
   ]
  },
  {
   "cell_type": "markdown",
   "id": "faf99ae2",
   "metadata": {},
   "source": [
    "### Nettoyage des données"
   ]
  },
  {
   "cell_type": "markdown",
   "id": "255096c1",
   "metadata": {},
   "source": [
    "Commençons par vérifier s'il existe des doublons"
   ]
  },
  {
   "cell_type": "code",
   "execution_count": 101,
   "id": "649c6511",
   "metadata": {},
   "outputs": [
    {
     "data": {
      "text/plain": [
       "False"
      ]
     },
     "execution_count": 101,
     "metadata": {},
     "output_type": "execute_result"
    }
   ],
   "source": [
    "df['user_article'].duplicated().any()"
   ]
  },
  {
   "cell_type": "markdown",
   "id": "3927b78a",
   "metadata": {},
   "source": [
    "Regardons également s'il y a des valeurs manquantes"
   ]
  },
  {
   "cell_type": "code",
   "execution_count": 102,
   "id": "2c36e8e8",
   "metadata": {},
   "outputs": [
    {
     "data": {
      "text/plain": [
       "user_id                0\n",
       "session_id             0\n",
       "session_start          0\n",
       "session_size           0\n",
       "click_article_id       0\n",
       "click_timestamp        0\n",
       "click_environment      0\n",
       "click_deviceGroup      0\n",
       "click_os               0\n",
       "click_country          0\n",
       "click_region           0\n",
       "click_referrer_type    0\n",
       "article_id             0\n",
       "category_id            0\n",
       "created_at_ts          0\n",
       "publisher_id           0\n",
       "words_count            0\n",
       "dtype: int64"
      ]
     },
     "execution_count": 102,
     "metadata": {},
     "output_type": "execute_result"
    }
   ],
   "source": [
    "df['user_article'].isna().sum()"
   ]
  },
  {
   "cell_type": "markdown",
   "id": "fa4fb5d0",
   "metadata": {},
   "source": [
    "Il n'y a ni doublon ni valeur nulle."
   ]
  },
  {
   "cell_type": "markdown",
   "id": "5d9b520b",
   "metadata": {},
   "source": [
    "#### ACP"
   ]
  },
  {
   "cell_type": "code",
   "execution_count": 38,
   "id": "cc6a704b",
   "metadata": {},
   "outputs": [],
   "source": [
    "df_art_emb = pd.DataFrame(\n",
    "    articles_embeddings,\n",
    "    columns=[\"emb_\" + str(i) for i in range(articles_embeddings.shape[1])]\n",
    ")"
   ]
  },
  {
   "cell_type": "code",
   "execution_count": 307,
   "id": "aace7e2b",
   "metadata": {},
   "outputs": [
    {
     "data": {
      "text/html": [
       "<div>\n",
       "<style scoped>\n",
       "    .dataframe tbody tr th:only-of-type {\n",
       "        vertical-align: middle;\n",
       "    }\n",
       "\n",
       "    .dataframe tbody tr th {\n",
       "        vertical-align: top;\n",
       "    }\n",
       "\n",
       "    .dataframe thead th {\n",
       "        text-align: right;\n",
       "    }\n",
       "</style>\n",
       "<table border=\"1\" class=\"dataframe\">\n",
       "  <thead>\n",
       "    <tr style=\"text-align: right;\">\n",
       "      <th></th>\n",
       "      <th>emb_0</th>\n",
       "      <th>emb_1</th>\n",
       "      <th>emb_2</th>\n",
       "      <th>emb_3</th>\n",
       "      <th>emb_4</th>\n",
       "      <th>emb_5</th>\n",
       "      <th>emb_6</th>\n",
       "      <th>emb_7</th>\n",
       "      <th>emb_8</th>\n",
       "      <th>emb_9</th>\n",
       "      <th>...</th>\n",
       "      <th>emb_240</th>\n",
       "      <th>emb_241</th>\n",
       "      <th>emb_242</th>\n",
       "      <th>emb_243</th>\n",
       "      <th>emb_244</th>\n",
       "      <th>emb_245</th>\n",
       "      <th>emb_246</th>\n",
       "      <th>emb_247</th>\n",
       "      <th>emb_248</th>\n",
       "      <th>emb_249</th>\n",
       "    </tr>\n",
       "  </thead>\n",
       "  <tbody>\n",
       "    <tr>\n",
       "      <th>0</th>\n",
       "      <td>-0.161183</td>\n",
       "      <td>-0.957233</td>\n",
       "      <td>-0.137944</td>\n",
       "      <td>0.050855</td>\n",
       "      <td>0.830055</td>\n",
       "      <td>0.901365</td>\n",
       "      <td>-0.335148</td>\n",
       "      <td>-0.559561</td>\n",
       "      <td>-0.500603</td>\n",
       "      <td>0.165183</td>\n",
       "      <td>...</td>\n",
       "      <td>0.321248</td>\n",
       "      <td>0.313999</td>\n",
       "      <td>0.636412</td>\n",
       "      <td>0.169179</td>\n",
       "      <td>0.540524</td>\n",
       "      <td>-0.813182</td>\n",
       "      <td>0.286870</td>\n",
       "      <td>-0.231686</td>\n",
       "      <td>0.597416</td>\n",
       "      <td>0.409623</td>\n",
       "    </tr>\n",
       "    <tr>\n",
       "      <th>1</th>\n",
       "      <td>-0.523216</td>\n",
       "      <td>-0.974058</td>\n",
       "      <td>0.738608</td>\n",
       "      <td>0.155234</td>\n",
       "      <td>0.626294</td>\n",
       "      <td>0.485297</td>\n",
       "      <td>-0.715657</td>\n",
       "      <td>-0.897996</td>\n",
       "      <td>-0.359747</td>\n",
       "      <td>0.398246</td>\n",
       "      <td>...</td>\n",
       "      <td>-0.487843</td>\n",
       "      <td>0.823124</td>\n",
       "      <td>0.412688</td>\n",
       "      <td>-0.338654</td>\n",
       "      <td>0.320787</td>\n",
       "      <td>0.588643</td>\n",
       "      <td>-0.594137</td>\n",
       "      <td>0.182828</td>\n",
       "      <td>0.397090</td>\n",
       "      <td>-0.834364</td>\n",
       "    </tr>\n",
       "    <tr>\n",
       "      <th>2</th>\n",
       "      <td>-0.619619</td>\n",
       "      <td>-0.972960</td>\n",
       "      <td>-0.207360</td>\n",
       "      <td>-0.128861</td>\n",
       "      <td>0.044748</td>\n",
       "      <td>-0.387535</td>\n",
       "      <td>-0.730477</td>\n",
       "      <td>-0.066126</td>\n",
       "      <td>-0.754899</td>\n",
       "      <td>-0.242004</td>\n",
       "      <td>...</td>\n",
       "      <td>0.454756</td>\n",
       "      <td>0.473184</td>\n",
       "      <td>0.377866</td>\n",
       "      <td>-0.863887</td>\n",
       "      <td>-0.383365</td>\n",
       "      <td>0.137721</td>\n",
       "      <td>-0.810877</td>\n",
       "      <td>-0.447580</td>\n",
       "      <td>0.805932</td>\n",
       "      <td>-0.285284</td>\n",
       "    </tr>\n",
       "    <tr>\n",
       "      <th>3</th>\n",
       "      <td>-0.740843</td>\n",
       "      <td>-0.975749</td>\n",
       "      <td>0.391698</td>\n",
       "      <td>0.641738</td>\n",
       "      <td>-0.268645</td>\n",
       "      <td>0.191745</td>\n",
       "      <td>-0.825593</td>\n",
       "      <td>-0.710591</td>\n",
       "      <td>-0.040099</td>\n",
       "      <td>-0.110514</td>\n",
       "      <td>...</td>\n",
       "      <td>0.271535</td>\n",
       "      <td>0.036040</td>\n",
       "      <td>0.480029</td>\n",
       "      <td>-0.763173</td>\n",
       "      <td>0.022627</td>\n",
       "      <td>0.565165</td>\n",
       "      <td>-0.910286</td>\n",
       "      <td>-0.537838</td>\n",
       "      <td>0.243541</td>\n",
       "      <td>-0.885329</td>\n",
       "    </tr>\n",
       "    <tr>\n",
       "      <th>4</th>\n",
       "      <td>-0.279052</td>\n",
       "      <td>-0.972315</td>\n",
       "      <td>0.685374</td>\n",
       "      <td>0.113056</td>\n",
       "      <td>0.238315</td>\n",
       "      <td>0.271913</td>\n",
       "      <td>-0.568816</td>\n",
       "      <td>0.341194</td>\n",
       "      <td>-0.600554</td>\n",
       "      <td>-0.125644</td>\n",
       "      <td>...</td>\n",
       "      <td>0.238286</td>\n",
       "      <td>0.809268</td>\n",
       "      <td>0.427521</td>\n",
       "      <td>-0.615932</td>\n",
       "      <td>-0.503697</td>\n",
       "      <td>0.614450</td>\n",
       "      <td>-0.917760</td>\n",
       "      <td>-0.424061</td>\n",
       "      <td>0.185484</td>\n",
       "      <td>-0.580292</td>\n",
       "    </tr>\n",
       "  </tbody>\n",
       "</table>\n",
       "<p>5 rows × 250 columns</p>\n",
       "</div>"
      ],
      "text/plain": [
       "      emb_0     emb_1     emb_2     emb_3     emb_4     emb_5     emb_6  \\\n",
       "0 -0.161183 -0.957233 -0.137944  0.050855  0.830055  0.901365 -0.335148   \n",
       "1 -0.523216 -0.974058  0.738608  0.155234  0.626294  0.485297 -0.715657   \n",
       "2 -0.619619 -0.972960 -0.207360 -0.128861  0.044748 -0.387535 -0.730477   \n",
       "3 -0.740843 -0.975749  0.391698  0.641738 -0.268645  0.191745 -0.825593   \n",
       "4 -0.279052 -0.972315  0.685374  0.113056  0.238315  0.271913 -0.568816   \n",
       "\n",
       "      emb_7     emb_8     emb_9  ...   emb_240   emb_241   emb_242   emb_243  \\\n",
       "0 -0.559561 -0.500603  0.165183  ...  0.321248  0.313999  0.636412  0.169179   \n",
       "1 -0.897996 -0.359747  0.398246  ... -0.487843  0.823124  0.412688 -0.338654   \n",
       "2 -0.066126 -0.754899 -0.242004  ...  0.454756  0.473184  0.377866 -0.863887   \n",
       "3 -0.710591 -0.040099 -0.110514  ...  0.271535  0.036040  0.480029 -0.763173   \n",
       "4  0.341194 -0.600554 -0.125644  ...  0.238286  0.809268  0.427521 -0.615932   \n",
       "\n",
       "    emb_244   emb_245   emb_246   emb_247   emb_248   emb_249  \n",
       "0  0.540524 -0.813182  0.286870 -0.231686  0.597416  0.409623  \n",
       "1  0.320787  0.588643 -0.594137  0.182828  0.397090 -0.834364  \n",
       "2 -0.383365  0.137721 -0.810877 -0.447580  0.805932 -0.285284  \n",
       "3  0.022627  0.565165 -0.910286 -0.537838  0.243541 -0.885329  \n",
       "4 -0.503697  0.614450 -0.917760 -0.424061  0.185484 -0.580292  \n",
       "\n",
       "[5 rows x 250 columns]"
      ]
     },
     "execution_count": 307,
     "metadata": {},
     "output_type": "execute_result"
    }
   ],
   "source": [
    "df_art_emb.head()"
   ]
  },
  {
   "cell_type": "markdown",
   "id": "a81aee60",
   "metadata": {},
   "source": [
    "Nous allons réaliser une ACP afin de réduire le nombre de features de cet embeddings, et donc la taille du fichier"
   ]
  },
  {
   "cell_type": "code",
   "execution_count": 39,
   "id": "418ec9d7",
   "metadata": {},
   "outputs": [
    {
     "data": {
      "text/html": [
       "<style>#sk-container-id-1 {color: black;background-color: white;}#sk-container-id-1 pre{padding: 0;}#sk-container-id-1 div.sk-toggleable {background-color: white;}#sk-container-id-1 label.sk-toggleable__label {cursor: pointer;display: block;width: 100%;margin-bottom: 0;padding: 0.3em;box-sizing: border-box;text-align: center;}#sk-container-id-1 label.sk-toggleable__label-arrow:before {content: \"▸\";float: left;margin-right: 0.25em;color: #696969;}#sk-container-id-1 label.sk-toggleable__label-arrow:hover:before {color: black;}#sk-container-id-1 div.sk-estimator:hover label.sk-toggleable__label-arrow:before {color: black;}#sk-container-id-1 div.sk-toggleable__content {max-height: 0;max-width: 0;overflow: hidden;text-align: left;background-color: #f0f8ff;}#sk-container-id-1 div.sk-toggleable__content pre {margin: 0.2em;color: black;border-radius: 0.25em;background-color: #f0f8ff;}#sk-container-id-1 input.sk-toggleable__control:checked~div.sk-toggleable__content {max-height: 200px;max-width: 100%;overflow: auto;}#sk-container-id-1 input.sk-toggleable__control:checked~label.sk-toggleable__label-arrow:before {content: \"▾\";}#sk-container-id-1 div.sk-estimator input.sk-toggleable__control:checked~label.sk-toggleable__label {background-color: #d4ebff;}#sk-container-id-1 div.sk-label input.sk-toggleable__control:checked~label.sk-toggleable__label {background-color: #d4ebff;}#sk-container-id-1 input.sk-hidden--visually {border: 0;clip: rect(1px 1px 1px 1px);clip: rect(1px, 1px, 1px, 1px);height: 1px;margin: -1px;overflow: hidden;padding: 0;position: absolute;width: 1px;}#sk-container-id-1 div.sk-estimator {font-family: monospace;background-color: #f0f8ff;border: 1px dotted black;border-radius: 0.25em;box-sizing: border-box;margin-bottom: 0.5em;}#sk-container-id-1 div.sk-estimator:hover {background-color: #d4ebff;}#sk-container-id-1 div.sk-parallel-item::after {content: \"\";width: 100%;border-bottom: 1px solid gray;flex-grow: 1;}#sk-container-id-1 div.sk-label:hover label.sk-toggleable__label {background-color: #d4ebff;}#sk-container-id-1 div.sk-serial::before {content: \"\";position: absolute;border-left: 1px solid gray;box-sizing: border-box;top: 0;bottom: 0;left: 50%;z-index: 0;}#sk-container-id-1 div.sk-serial {display: flex;flex-direction: column;align-items: center;background-color: white;padding-right: 0.2em;padding-left: 0.2em;position: relative;}#sk-container-id-1 div.sk-item {position: relative;z-index: 1;}#sk-container-id-1 div.sk-parallel {display: flex;align-items: stretch;justify-content: center;background-color: white;position: relative;}#sk-container-id-1 div.sk-item::before, #sk-container-id-1 div.sk-parallel-item::before {content: \"\";position: absolute;border-left: 1px solid gray;box-sizing: border-box;top: 0;bottom: 0;left: 50%;z-index: -1;}#sk-container-id-1 div.sk-parallel-item {display: flex;flex-direction: column;z-index: 1;position: relative;background-color: white;}#sk-container-id-1 div.sk-parallel-item:first-child::after {align-self: flex-end;width: 50%;}#sk-container-id-1 div.sk-parallel-item:last-child::after {align-self: flex-start;width: 50%;}#sk-container-id-1 div.sk-parallel-item:only-child::after {width: 0;}#sk-container-id-1 div.sk-dashed-wrapped {border: 1px dashed gray;margin: 0 0.4em 0.5em 0.4em;box-sizing: border-box;padding-bottom: 0.4em;background-color: white;}#sk-container-id-1 div.sk-label label {font-family: monospace;font-weight: bold;display: inline-block;line-height: 1.2em;}#sk-container-id-1 div.sk-label-container {text-align: center;}#sk-container-id-1 div.sk-container {/* jupyter's `normalize.less` sets `[hidden] { display: none; }` but bootstrap.min.css set `[hidden] { display: none !important; }` so we also need the `!important` here to be able to override the default hidden behavior on the sphinx rendered scikit-learn.org. See: https://github.com/scikit-learn/scikit-learn/issues/21755 */display: inline-block !important;position: relative;}#sk-container-id-1 div.sk-text-repr-fallback {display: none;}</style><div id=\"sk-container-id-1\" class=\"sk-top-container\"><div class=\"sk-text-repr-fallback\"><pre>PCA(n_components=250)</pre><b>In a Jupyter environment, please rerun this cell to show the HTML representation or trust the notebook. <br />On GitHub, the HTML representation is unable to render, please try loading this page with nbviewer.org.</b></div><div class=\"sk-container\" hidden><div class=\"sk-item\"><div class=\"sk-estimator sk-toggleable\"><input class=\"sk-toggleable__control sk-hidden--visually\" id=\"sk-estimator-id-1\" type=\"checkbox\" checked><label for=\"sk-estimator-id-1\" class=\"sk-toggleable__label sk-toggleable__label-arrow\">PCA</label><div class=\"sk-toggleable__content\"><pre>PCA(n_components=250)</pre></div></div></div></div></div>"
      ],
      "text/plain": [
       "PCA(n_components=250)"
      ]
     },
     "execution_count": 39,
     "metadata": {},
     "output_type": "execute_result"
    }
   ],
   "source": [
    "covar_matrix = PCA(\n",
    "    n_components=articles_embeddings.shape[1]\n",
    ")\n",
    "covar_matrix.fit(articles_embeddings)"
   ]
  },
  {
   "cell_type": "code",
   "execution_count": 316,
   "id": "e484a64f",
   "metadata": {},
   "outputs": [],
   "source": [
    "def display_scree_plot(pca):\n",
    "    scree = pca.explained_variance_ratio_*100\n",
    "    plt.bar(np.arange(len(scree))+1, scree)\n",
    "    plt.plot(np.arange(len(scree))+1, scree.cumsum(),c=\"red\",marker='o')\n",
    "    plt.xlabel(\"rang de l'axe d'inertie\")\n",
    "    plt.ylabel(\"pourcentage d'inertie\")\n",
    "    fig = plt.gcf()\n",
    "    fig.set_size_inches(15,15)\n",
    "    plt.title(\"Eboulis des valeurs propres\")\n",
    "    plt.show(block=False)"
   ]
  },
  {
   "cell_type": "code",
   "execution_count": 317,
   "id": "228edde9",
   "metadata": {},
   "outputs": [
    {
     "data": {
      "image/png": "[encoded data removed]",
      "text/plain": [
       "<Figure size 1080x1080 with 1 Axes>"
      ]
     },
     "metadata": {
      "needs_background": "dark"
     },
     "output_type": "display_data"
    }
   ],
   "source": [
    "display_scree_plot(covar_matrix)"
   ]
  },
  {
   "cell_type": "code",
   "execution_count": 56,
   "id": "199a12eb",
   "metadata": {},
   "outputs": [
    {
     "data": {
      "text/plain": [
       "Text(0, 0.5, 'Variance expliquée et cumulée')"
      ]
     },
     "execution_count": 56,
     "metadata": {},
     "output_type": "execute_result"
    },
    {
     "data": {
      "image/png": "[encoded data removed]",
      "text/plain": [
       "<Figure size 1500x1000 with 1 Axes>"
      ]
     },
     "metadata": {},
     "output_type": "display_data"
    }
   ],
   "source": [
    "fig = plt.figure(figsize=(15,10)) #\n",
    "\n",
    "plt.plot(np.cumsum(covar_matrix.explained_variance_ratio_))\n",
    "plt.axvline(x=70, color=\"r\", linestyle=\"--\")\n",
    "plt.axhline(y=0.9773075504808983, color=\"r\", linestyle=\"--\")\n",
    "plt.xlabel('Nombre de composants')\n",
    "plt.ylabel('Variance expliquée et cumulée')"
   ]
  },
  {
   "cell_type": "markdown",
   "id": "226b456a",
   "metadata": {},
   "source": [
    "Nous allons conserver 70 composants"
   ]
  },
  {
   "cell_type": "code",
   "execution_count": 54,
   "id": "77d83197",
   "metadata": {},
   "outputs": [],
   "source": [
    "pca = PCA(n_components=70)\n",
    "pca.fit(df_art_emb)\n",
    "art_emb_pca = pca.transform(df_art_emb)"
   ]
  },
  {
   "cell_type": "code",
   "execution_count": 55,
   "id": "581bc8e1",
   "metadata": {},
   "outputs": [
    {
     "name": "stdout",
     "output_type": "stream",
     "text": [
      "variance expliquée :  0.9773075504808983\n"
     ]
    }
   ],
   "source": [
    "variance = sum(pca.explained_variance_ratio_)\n",
    "print(\"variance expliquée : \", variance)"
   ]
  },
  {
   "cell_type": "code",
   "execution_count": 57,
   "id": "b7a2c9e7",
   "metadata": {},
   "outputs": [],
   "source": [
    "df_art_emb_pca = pd.DataFrame(\n",
    "    art_emb_pca,\n",
    "    columns = [\"emb_\" + str(i) for i in range(art_emb_pca.shape[1])]\n",
    ")"
   ]
  },
  {
   "cell_type": "code",
   "execution_count": 58,
   "id": "f4562b94",
   "metadata": {},
   "outputs": [
    {
     "data": {
      "text/html": [
       "<div>\n",
       "<style scoped>\n",
       "    .dataframe tbody tr th:only-of-type {\n",
       "        vertical-align: middle;\n",
       "    }\n",
       "\n",
       "    .dataframe tbody tr th {\n",
       "        vertical-align: top;\n",
       "    }\n",
       "\n",
       "    .dataframe thead th {\n",
       "        text-align: right;\n",
       "    }\n",
       "</style>\n",
       "<table border=\"1\" class=\"dataframe\">\n",
       "  <thead>\n",
       "    <tr style=\"text-align: right;\">\n",
       "      <th></th>\n",
       "      <th>emb_0</th>\n",
       "      <th>emb_1</th>\n",
       "      <th>emb_2</th>\n",
       "      <th>emb_3</th>\n",
       "      <th>emb_4</th>\n",
       "      <th>emb_5</th>\n",
       "      <th>emb_6</th>\n",
       "      <th>emb_7</th>\n",
       "      <th>emb_8</th>\n",
       "      <th>emb_9</th>\n",
       "      <th>...</th>\n",
       "      <th>emb_60</th>\n",
       "      <th>emb_61</th>\n",
       "      <th>emb_62</th>\n",
       "      <th>emb_63</th>\n",
       "      <th>emb_64</th>\n",
       "      <th>emb_65</th>\n",
       "      <th>emb_66</th>\n",
       "      <th>emb_67</th>\n",
       "      <th>emb_68</th>\n",
       "      <th>emb_69</th>\n",
       "    </tr>\n",
       "  </thead>\n",
       "  <tbody>\n",
       "    <tr>\n",
       "      <th>0</th>\n",
       "      <td>-2.176778</td>\n",
       "      <td>-1.316917</td>\n",
       "      <td>-1.029055</td>\n",
       "      <td>0.901900</td>\n",
       "      <td>-1.809533</td>\n",
       "      <td>2.064726</td>\n",
       "      <td>1.221895</td>\n",
       "      <td>0.024460</td>\n",
       "      <td>0.927227</td>\n",
       "      <td>0.669742</td>\n",
       "      <td>...</td>\n",
       "      <td>0.230794</td>\n",
       "      <td>-0.100359</td>\n",
       "      <td>0.049112</td>\n",
       "      <td>0.058206</td>\n",
       "      <td>-0.319569</td>\n",
       "      <td>0.528240</td>\n",
       "      <td>0.113952</td>\n",
       "      <td>-0.417471</td>\n",
       "      <td>-0.002487</td>\n",
       "      <td>0.071560</td>\n",
       "    </tr>\n",
       "    <tr>\n",
       "      <th>1</th>\n",
       "      <td>-1.735181</td>\n",
       "      <td>0.489886</td>\n",
       "      <td>3.268564</td>\n",
       "      <td>0.087844</td>\n",
       "      <td>1.473064</td>\n",
       "      <td>0.932691</td>\n",
       "      <td>-1.841634</td>\n",
       "      <td>0.881792</td>\n",
       "      <td>-0.207228</td>\n",
       "      <td>-0.816806</td>\n",
       "      <td>...</td>\n",
       "      <td>-0.103000</td>\n",
       "      <td>0.083815</td>\n",
       "      <td>-0.036991</td>\n",
       "      <td>0.419636</td>\n",
       "      <td>0.298784</td>\n",
       "      <td>-0.111680</td>\n",
       "      <td>-0.146413</td>\n",
       "      <td>0.195302</td>\n",
       "      <td>-0.158367</td>\n",
       "      <td>0.085617</td>\n",
       "    </tr>\n",
       "    <tr>\n",
       "      <th>2</th>\n",
       "      <td>-0.912690</td>\n",
       "      <td>-2.089345</td>\n",
       "      <td>1.865867</td>\n",
       "      <td>-1.202533</td>\n",
       "      <td>2.530592</td>\n",
       "      <td>0.521945</td>\n",
       "      <td>-0.224343</td>\n",
       "      <td>-1.479939</td>\n",
       "      <td>-0.191826</td>\n",
       "      <td>-1.356808</td>\n",
       "      <td>...</td>\n",
       "      <td>0.105127</td>\n",
       "      <td>0.102635</td>\n",
       "      <td>0.192903</td>\n",
       "      <td>0.220059</td>\n",
       "      <td>0.142572</td>\n",
       "      <td>-0.136309</td>\n",
       "      <td>0.146346</td>\n",
       "      <td>-0.140555</td>\n",
       "      <td>0.068443</td>\n",
       "      <td>0.269176</td>\n",
       "    </tr>\n",
       "    <tr>\n",
       "      <th>3</th>\n",
       "      <td>1.096563</td>\n",
       "      <td>0.212953</td>\n",
       "      <td>4.183521</td>\n",
       "      <td>-0.649570</td>\n",
       "      <td>-0.130879</td>\n",
       "      <td>-1.126562</td>\n",
       "      <td>-1.063989</td>\n",
       "      <td>0.662888</td>\n",
       "      <td>0.348124</td>\n",
       "      <td>-1.463915</td>\n",
       "      <td>...</td>\n",
       "      <td>0.179905</td>\n",
       "      <td>-0.028757</td>\n",
       "      <td>-0.371627</td>\n",
       "      <td>-0.105237</td>\n",
       "      <td>0.365489</td>\n",
       "      <td>0.295829</td>\n",
       "      <td>0.351317</td>\n",
       "      <td>-0.044445</td>\n",
       "      <td>-0.050126</td>\n",
       "      <td>-0.298399</td>\n",
       "    </tr>\n",
       "    <tr>\n",
       "      <th>4</th>\n",
       "      <td>0.193779</td>\n",
       "      <td>-0.263952</td>\n",
       "      <td>1.896584</td>\n",
       "      <td>-1.834365</td>\n",
       "      <td>1.270380</td>\n",
       "      <td>1.723270</td>\n",
       "      <td>-0.329014</td>\n",
       "      <td>-0.283813</td>\n",
       "      <td>-0.659787</td>\n",
       "      <td>-1.223723</td>\n",
       "      <td>...</td>\n",
       "      <td>0.448678</td>\n",
       "      <td>-0.348934</td>\n",
       "      <td>0.222146</td>\n",
       "      <td>-0.081992</td>\n",
       "      <td>0.406375</td>\n",
       "      <td>-0.120155</td>\n",
       "      <td>0.379303</td>\n",
       "      <td>0.108424</td>\n",
       "      <td>0.159025</td>\n",
       "      <td>-0.140482</td>\n",
       "    </tr>\n",
       "  </tbody>\n",
       "</table>\n",
       "<p>5 rows × 70 columns</p>\n",
       "</div>"
      ],
      "text/plain": [
       "      emb_0     emb_1     emb_2     emb_3     emb_4     emb_5     emb_6  \\\n",
       "0 -2.176778 -1.316917 -1.029055  0.901900 -1.809533  2.064726  1.221895   \n",
       "1 -1.735181  0.489886  3.268564  0.087844  1.473064  0.932691 -1.841634   \n",
       "2 -0.912690 -2.089345  1.865867 -1.202533  2.530592  0.521945 -0.224343   \n",
       "3  1.096563  0.212953  4.183521 -0.649570 -0.130879 -1.126562 -1.063989   \n",
       "4  0.193779 -0.263952  1.896584 -1.834365  1.270380  1.723270 -0.329014   \n",
       "\n",
       "      emb_7     emb_8     emb_9  ...    emb_60    emb_61    emb_62    emb_63  \\\n",
       "0  0.024460  0.927227  0.669742  ...  0.230794 -0.100359  0.049112  0.058206   \n",
       "1  0.881792 -0.207228 -0.816806  ... -0.103000  0.083815 -0.036991  0.419636   \n",
       "2 -1.479939 -0.191826 -1.356808  ...  0.105127  0.102635  0.192903  0.220059   \n",
       "3  0.662888  0.348124 -1.463915  ...  0.179905 -0.028757 -0.371627 -0.105237   \n",
       "4 -0.283813 -0.659787 -1.223723  ...  0.448678 -0.348934  0.222146 -0.081992   \n",
       "\n",
       "     emb_64    emb_65    emb_66    emb_67    emb_68    emb_69  \n",
       "0 -0.319569  0.528240  0.113952 -0.417471 -0.002487  0.071560  \n",
       "1  0.298784 -0.111680 -0.146413  0.195302 -0.158367  0.085617  \n",
       "2  0.142572 -0.136309  0.146346 -0.140555  0.068443  0.269176  \n",
       "3  0.365489  0.295829  0.351317 -0.044445 -0.050126 -0.298399  \n",
       "4  0.406375 -0.120155  0.379303  0.108424  0.159025 -0.140482  \n",
       "\n",
       "[5 rows x 70 columns]"
      ]
     },
     "execution_count": 58,
     "metadata": {},
     "output_type": "execute_result"
    }
   ],
   "source": [
    "df_art_emb_pca.head()"
   ]
  },
  {
   "cell_type": "code",
   "execution_count": 59,
   "id": "a5f07118",
   "metadata": {},
   "outputs": [],
   "source": [
    "pickle.dump(df_art_emb_pca, open(\"df_art_env_pca.pkl\", \"wb\"))"
   ]
  },
  {
   "cell_type": "markdown",
   "id": "d512b1e8",
   "metadata": {},
   "source": [
    "# Systèmes de recommandation de contenus"
   ]
  },
  {
   "cell_type": "markdown",
   "id": "a6f129e5",
   "metadata": {},
   "source": [
    "Il existe différentes approches pour les systèmes de recommandation. Ils peuvent être basés sur :\n",
    "- le contenu (content based RS)\n",
    "- les métadonnées (content based RS)\n",
    "- l'historique de chaque utilisateur (collaborative filtering)"
   ]
  },
  {
   "cell_type": "markdown",
   "id": "83cd4ce7",
   "metadata": {},
   "source": [
    "### Filtrage collaboratif (Collaborative filtering)"
   ]
  },
  {
   "cell_type": "markdown",
   "id": "f75ed371",
   "metadata": {},
   "source": [
    "Il s'agit de l’ensemble des techniques qui utilisent le lien utilisateur-produit. Ce lien est représenté par des avis ou des notes, il est utilisé pour construire un système de recommandation personnalisé.  \n",
    "\n",
    "On peut par exemple retrouver ce genre de systèmes chez Amazon lorsque des articles vous sont recommandés avec la mention \"les utilisateurs ayant aimé cet article ont aussi aimé xxx\".\n",
    "\n",
    "Pour faire du filtrage coollaboratif, on peut faire du filtrage basé sur l'utilisateur, ou du filtrage basé sur l'article. Ces notes peuvent être attribuées de façon active (on demande à l'utilisateur de noter l'article), ou passive (par exemple, le nombre d'écoutes d'une musique sur *Spotify*, ou dans notre cas, le nombre de clics sur un article).\n",
    "\n",
    "On créée une matrice utilisateur-article creuse, c'est-à-dire avec beaucoup de champs vides. Chaque utilisateur dans la base de données peut alors être considéré comme un vecteur incomplet de notes, où la composante **a** est la note de l'utilisateur correspondant à l'article **a**. De la même manière, un article peut être considéré comme un vecteur où chaque composante représente un utilisateur et sa note pour l'article."
   ]
  },
  {
   "cell_type": "markdown",
   "id": "fe1a8286",
   "metadata": {},
   "source": [
    "#### Préparation des données"
   ]
  },
  {
   "cell_type": "code",
   "execution_count": 16,
   "id": "1799c921",
   "metadata": {},
   "outputs": [
    {
     "data": {
      "text/html": [
       "<div>\n",
       "<style scoped>\n",
       "    .dataframe tbody tr th:only-of-type {\n",
       "        vertical-align: middle;\n",
       "    }\n",
       "\n",
       "    .dataframe tbody tr th {\n",
       "        vertical-align: top;\n",
       "    }\n",
       "\n",
       "    .dataframe thead th {\n",
       "        text-align: right;\n",
       "    }\n",
       "</style>\n",
       "<table border=\"1\" class=\"dataframe\">\n",
       "  <thead>\n",
       "    <tr style=\"text-align: right;\">\n",
       "      <th></th>\n",
       "      <th>user_id</th>\n",
       "      <th>session_id</th>\n",
       "      <th>session_start</th>\n",
       "      <th>session_size</th>\n",
       "      <th>click_article_id</th>\n",
       "      <th>click_timestamp</th>\n",
       "      <th>click_environment</th>\n",
       "      <th>click_deviceGroup</th>\n",
       "      <th>click_os</th>\n",
       "      <th>click_country</th>\n",
       "      <th>click_region</th>\n",
       "      <th>click_referrer_type</th>\n",
       "    </tr>\n",
       "  </thead>\n",
       "  <tbody>\n",
       "    <tr>\n",
       "      <th>0</th>\n",
       "      <td>0</td>\n",
       "      <td>1506825423271737</td>\n",
       "      <td>1506825423000</td>\n",
       "      <td>2</td>\n",
       "      <td>157541</td>\n",
       "      <td>1506826828020</td>\n",
       "      <td>4</td>\n",
       "      <td>3</td>\n",
       "      <td>20</td>\n",
       "      <td>1</td>\n",
       "      <td>20</td>\n",
       "      <td>2</td>\n",
       "    </tr>\n",
       "    <tr>\n",
       "      <th>1</th>\n",
       "      <td>0</td>\n",
       "      <td>1506825423271737</td>\n",
       "      <td>1506825423000</td>\n",
       "      <td>2</td>\n",
       "      <td>68866</td>\n",
       "      <td>1506826858020</td>\n",
       "      <td>4</td>\n",
       "      <td>3</td>\n",
       "      <td>20</td>\n",
       "      <td>1</td>\n",
       "      <td>20</td>\n",
       "      <td>2</td>\n",
       "    </tr>\n",
       "    <tr>\n",
       "      <th>2</th>\n",
       "      <td>1</td>\n",
       "      <td>1506825426267738</td>\n",
       "      <td>1506825426000</td>\n",
       "      <td>2</td>\n",
       "      <td>235840</td>\n",
       "      <td>1506827017951</td>\n",
       "      <td>4</td>\n",
       "      <td>1</td>\n",
       "      <td>17</td>\n",
       "      <td>1</td>\n",
       "      <td>16</td>\n",
       "      <td>2</td>\n",
       "    </tr>\n",
       "    <tr>\n",
       "      <th>3</th>\n",
       "      <td>1</td>\n",
       "      <td>1506825426267738</td>\n",
       "      <td>1506825426000</td>\n",
       "      <td>2</td>\n",
       "      <td>96663</td>\n",
       "      <td>1506827047951</td>\n",
       "      <td>4</td>\n",
       "      <td>1</td>\n",
       "      <td>17</td>\n",
       "      <td>1</td>\n",
       "      <td>16</td>\n",
       "      <td>2</td>\n",
       "    </tr>\n",
       "    <tr>\n",
       "      <th>4</th>\n",
       "      <td>2</td>\n",
       "      <td>1506825435299739</td>\n",
       "      <td>1506825435000</td>\n",
       "      <td>2</td>\n",
       "      <td>119592</td>\n",
       "      <td>1506827090575</td>\n",
       "      <td>4</td>\n",
       "      <td>1</td>\n",
       "      <td>17</td>\n",
       "      <td>1</td>\n",
       "      <td>24</td>\n",
       "      <td>2</td>\n",
       "    </tr>\n",
       "  </tbody>\n",
       "</table>\n",
       "</div>"
      ],
      "text/plain": [
       "  user_id        session_id  session_start session_size click_article_id  \\\n",
       "0       0  1506825423271737  1506825423000            2           157541   \n",
       "1       0  1506825423271737  1506825423000            2            68866   \n",
       "2       1  1506825426267738  1506825426000            2           235840   \n",
       "3       1  1506825426267738  1506825426000            2            96663   \n",
       "4       2  1506825435299739  1506825435000            2           119592   \n",
       "\n",
       "  click_timestamp click_environment click_deviceGroup click_os click_country  \\\n",
       "0   1506826828020                 4                 3       20             1   \n",
       "1   1506826858020                 4                 3       20             1   \n",
       "2   1506827017951                 4                 1       17             1   \n",
       "3   1506827047951                 4                 1       17             1   \n",
       "4   1506827090575                 4                 1       17             1   \n",
       "\n",
       "  click_region click_referrer_type  \n",
       "0           20                   2  \n",
       "1           20                   2  \n",
       "2           16                   2  \n",
       "3           16                   2  \n",
       "4           24                   2  "
      ]
     },
     "execution_count": 16,
     "metadata": {},
     "output_type": "execute_result"
    }
   ],
   "source": [
    "df[\"clicks\"].head()"
   ]
  },
  {
   "cell_type": "code",
   "execution_count": 17,
   "id": "59f37827",
   "metadata": {},
   "outputs": [
    {
     "data": {
      "text/html": [
       "<div>\n",
       "<style scoped>\n",
       "    .dataframe tbody tr th:only-of-type {\n",
       "        vertical-align: middle;\n",
       "    }\n",
       "\n",
       "    .dataframe tbody tr th {\n",
       "        vertical-align: top;\n",
       "    }\n",
       "\n",
       "    .dataframe thead th {\n",
       "        text-align: right;\n",
       "    }\n",
       "</style>\n",
       "<table border=\"1\" class=\"dataframe\">\n",
       "  <thead>\n",
       "    <tr style=\"text-align: right;\">\n",
       "      <th></th>\n",
       "      <th>article_id</th>\n",
       "      <th>category_id</th>\n",
       "      <th>created_at_ts</th>\n",
       "      <th>publisher_id</th>\n",
       "      <th>words_count</th>\n",
       "    </tr>\n",
       "  </thead>\n",
       "  <tbody>\n",
       "    <tr>\n",
       "      <th>0</th>\n",
       "      <td>0</td>\n",
       "      <td>0</td>\n",
       "      <td>1513144419000</td>\n",
       "      <td>0</td>\n",
       "      <td>168</td>\n",
       "    </tr>\n",
       "    <tr>\n",
       "      <th>1</th>\n",
       "      <td>1</td>\n",
       "      <td>1</td>\n",
       "      <td>1405341936000</td>\n",
       "      <td>0</td>\n",
       "      <td>189</td>\n",
       "    </tr>\n",
       "    <tr>\n",
       "      <th>2</th>\n",
       "      <td>2</td>\n",
       "      <td>1</td>\n",
       "      <td>1408667706000</td>\n",
       "      <td>0</td>\n",
       "      <td>250</td>\n",
       "    </tr>\n",
       "    <tr>\n",
       "      <th>3</th>\n",
       "      <td>3</td>\n",
       "      <td>1</td>\n",
       "      <td>1408468313000</td>\n",
       "      <td>0</td>\n",
       "      <td>230</td>\n",
       "    </tr>\n",
       "    <tr>\n",
       "      <th>4</th>\n",
       "      <td>4</td>\n",
       "      <td>1</td>\n",
       "      <td>1407071171000</td>\n",
       "      <td>0</td>\n",
       "      <td>162</td>\n",
       "    </tr>\n",
       "  </tbody>\n",
       "</table>\n",
       "</div>"
      ],
      "text/plain": [
       "   article_id  category_id  created_at_ts  publisher_id  words_count\n",
       "0           0            0  1513144419000             0          168\n",
       "1           1            1  1405341936000             0          189\n",
       "2           2            1  1408667706000             0          250\n",
       "3           3            1  1408468313000             0          230\n",
       "4           4            1  1407071171000             0          162"
      ]
     },
     "execution_count": 17,
     "metadata": {},
     "output_type": "execute_result"
    }
   ],
   "source": [
    "df[\"articles_metadata\"].head()"
   ]
  },
  {
   "cell_type": "code",
   "execution_count": 39,
   "id": "9de79599",
   "metadata": {},
   "outputs": [
    {
     "data": {
      "text/html": [
       "<div>\n",
       "<style scoped>\n",
       "    .dataframe tbody tr th:only-of-type {\n",
       "        vertical-align: middle;\n",
       "    }\n",
       "\n",
       "    .dataframe tbody tr th {\n",
       "        vertical-align: top;\n",
       "    }\n",
       "\n",
       "    .dataframe thead th {\n",
       "        text-align: right;\n",
       "    }\n",
       "</style>\n",
       "<table border=\"1\" class=\"dataframe\">\n",
       "  <thead>\n",
       "    <tr style=\"text-align: right;\">\n",
       "      <th></th>\n",
       "      <th>user_id</th>\n",
       "      <th>article_id</th>\n",
       "      <th>category_id</th>\n",
       "    </tr>\n",
       "  </thead>\n",
       "  <tbody>\n",
       "    <tr>\n",
       "      <th>0</th>\n",
       "      <td>0</td>\n",
       "      <td>157541</td>\n",
       "      <td>281</td>\n",
       "    </tr>\n",
       "    <tr>\n",
       "      <th>1</th>\n",
       "      <td>20</td>\n",
       "      <td>157541</td>\n",
       "      <td>281</td>\n",
       "    </tr>\n",
       "    <tr>\n",
       "      <th>2</th>\n",
       "      <td>44</td>\n",
       "      <td>157541</td>\n",
       "      <td>281</td>\n",
       "    </tr>\n",
       "    <tr>\n",
       "      <th>3</th>\n",
       "      <td>45</td>\n",
       "      <td>157541</td>\n",
       "      <td>281</td>\n",
       "    </tr>\n",
       "    <tr>\n",
       "      <th>4</th>\n",
       "      <td>76</td>\n",
       "      <td>157541</td>\n",
       "      <td>281</td>\n",
       "    </tr>\n",
       "    <tr>\n",
       "      <th>...</th>\n",
       "      <td>...</td>\n",
       "      <td>...</td>\n",
       "      <td>...</td>\n",
       "    </tr>\n",
       "    <tr>\n",
       "      <th>2988176</th>\n",
       "      <td>195186</td>\n",
       "      <td>2221</td>\n",
       "      <td>1</td>\n",
       "    </tr>\n",
       "    <tr>\n",
       "      <th>2988177</th>\n",
       "      <td>75658</td>\n",
       "      <td>271117</td>\n",
       "      <td>399</td>\n",
       "    </tr>\n",
       "    <tr>\n",
       "      <th>2988178</th>\n",
       "      <td>217129</td>\n",
       "      <td>20204</td>\n",
       "      <td>9</td>\n",
       "    </tr>\n",
       "    <tr>\n",
       "      <th>2988179</th>\n",
       "      <td>217129</td>\n",
       "      <td>70196</td>\n",
       "      <td>136</td>\n",
       "    </tr>\n",
       "    <tr>\n",
       "      <th>2988180</th>\n",
       "      <td>51099</td>\n",
       "      <td>98243</td>\n",
       "      <td>220</td>\n",
       "    </tr>\n",
       "  </tbody>\n",
       "</table>\n",
       "<p>2988181 rows × 3 columns</p>\n",
       "</div>"
      ],
      "text/plain": [
       "        user_id  article_id  category_id\n",
       "0             0      157541          281\n",
       "1            20      157541          281\n",
       "2            44      157541          281\n",
       "3            45      157541          281\n",
       "4            76      157541          281\n",
       "...         ...         ...          ...\n",
       "2988176  195186        2221            1\n",
       "2988177   75658      271117          399\n",
       "2988178  217129       20204            9\n",
       "2988179  217129       70196          136\n",
       "2988180   51099       98243          220\n",
       "\n",
       "[2988181 rows x 3 columns]"
      ]
     },
     "execution_count": 39,
     "metadata": {},
     "output_type": "execute_result"
    }
   ],
   "source": [
    "df[\"user_article\"]"
   ]
  },
  {
   "cell_type": "code",
   "execution_count": 19,
   "id": "6929f34f",
   "metadata": {},
   "outputs": [
    {
     "data": {
      "text/html": [
       "<div>\n",
       "<style scoped>\n",
       "    .dataframe tbody tr th:only-of-type {\n",
       "        vertical-align: middle;\n",
       "    }\n",
       "\n",
       "    .dataframe tbody tr th {\n",
       "        vertical-align: top;\n",
       "    }\n",
       "\n",
       "    .dataframe thead th {\n",
       "        text-align: right;\n",
       "    }\n",
       "</style>\n",
       "<table border=\"1\" class=\"dataframe\">\n",
       "  <thead>\n",
       "    <tr style=\"text-align: right;\">\n",
       "      <th></th>\n",
       "      <th>user_id</th>\n",
       "      <th>category_id</th>\n",
       "      <th>0</th>\n",
       "    </tr>\n",
       "  </thead>\n",
       "  <tbody>\n",
       "    <tr>\n",
       "      <th>0</th>\n",
       "      <td>0</td>\n",
       "      <td>136</td>\n",
       "      <td>1</td>\n",
       "    </tr>\n",
       "    <tr>\n",
       "      <th>1</th>\n",
       "      <td>0</td>\n",
       "      <td>186</td>\n",
       "      <td>2</td>\n",
       "    </tr>\n",
       "    <tr>\n",
       "      <th>2</th>\n",
       "      <td>0</td>\n",
       "      <td>209</td>\n",
       "      <td>1</td>\n",
       "    </tr>\n",
       "    <tr>\n",
       "      <th>3</th>\n",
       "      <td>0</td>\n",
       "      <td>281</td>\n",
       "      <td>2</td>\n",
       "    </tr>\n",
       "    <tr>\n",
       "      <th>4</th>\n",
       "      <td>0</td>\n",
       "      <td>375</td>\n",
       "      <td>1</td>\n",
       "    </tr>\n",
       "    <tr>\n",
       "      <th>...</th>\n",
       "      <td>...</td>\n",
       "      <td>...</td>\n",
       "      <td>...</td>\n",
       "    </tr>\n",
       "    <tr>\n",
       "      <th>1882297</th>\n",
       "      <td>322894</td>\n",
       "      <td>297</td>\n",
       "      <td>1</td>\n",
       "    </tr>\n",
       "    <tr>\n",
       "      <th>1882298</th>\n",
       "      <td>322895</td>\n",
       "      <td>133</td>\n",
       "      <td>1</td>\n",
       "    </tr>\n",
       "    <tr>\n",
       "      <th>1882299</th>\n",
       "      <td>322895</td>\n",
       "      <td>418</td>\n",
       "      <td>1</td>\n",
       "    </tr>\n",
       "    <tr>\n",
       "      <th>1882300</th>\n",
       "      <td>322896</td>\n",
       "      <td>26</td>\n",
       "      <td>1</td>\n",
       "    </tr>\n",
       "    <tr>\n",
       "      <th>1882301</th>\n",
       "      <td>322896</td>\n",
       "      <td>281</td>\n",
       "      <td>1</td>\n",
       "    </tr>\n",
       "  </tbody>\n",
       "</table>\n",
       "<p>1882302 rows × 3 columns</p>\n",
       "</div>"
      ],
      "text/plain": [
       "         user_id  category_id  0\n",
       "0              0          136  1\n",
       "1              0          186  2\n",
       "2              0          209  1\n",
       "3              0          281  2\n",
       "4              0          375  1\n",
       "...          ...          ... ..\n",
       "1882297   322894          297  1\n",
       "1882298   322895          133  1\n",
       "1882299   322895          418  1\n",
       "1882300   322896           26  1\n",
       "1882301   322896          281  1\n",
       "\n",
       "[1882302 rows x 3 columns]"
      ]
     },
     "execution_count": 19,
     "metadata": {},
     "output_type": "execute_result"
    }
   ],
   "source": [
    "tmp = df[\"user_article\"].groupby( # type(tmp) == Series\n",
    "    [\n",
    "        \"user_id\",\n",
    "        \"category_id\"\n",
    "    ]\n",
    ").size()\n",
    "df[\"user_rating\"] = tmp.to_frame()\n",
    "df[\"user_rating\"] = df[\"user_rating\"].reset_index()\n",
    "\n",
    "df[\"user_rating\"]"
   ]
  },
  {
   "cell_type": "code",
   "execution_count": 20,
   "id": "e751e5ee",
   "metadata": {},
   "outputs": [],
   "source": [
    "df[\"user_rating\"].rename(\n",
    "    columns = {0 : \"rating\"},\n",
    "    inplace = True\n",
    ")"
   ]
  },
  {
   "cell_type": "code",
   "execution_count": 108,
   "id": "815e7078",
   "metadata": {},
   "outputs": [
    {
     "data": {
      "text/html": [
       "<div>\n",
       "<style scoped>\n",
       "    .dataframe tbody tr th:only-of-type {\n",
       "        vertical-align: middle;\n",
       "    }\n",
       "\n",
       "    .dataframe tbody tr th {\n",
       "        vertical-align: top;\n",
       "    }\n",
       "\n",
       "    .dataframe thead th {\n",
       "        text-align: right;\n",
       "    }\n",
       "</style>\n",
       "<table border=\"1\" class=\"dataframe\">\n",
       "  <thead>\n",
       "    <tr style=\"text-align: right;\">\n",
       "      <th></th>\n",
       "      <th>user_id</th>\n",
       "      <th>category_id</th>\n",
       "      <th>rating</th>\n",
       "    </tr>\n",
       "  </thead>\n",
       "  <tbody>\n",
       "    <tr>\n",
       "      <th>0</th>\n",
       "      <td>0</td>\n",
       "      <td>136</td>\n",
       "      <td>1</td>\n",
       "    </tr>\n",
       "    <tr>\n",
       "      <th>1</th>\n",
       "      <td>0</td>\n",
       "      <td>186</td>\n",
       "      <td>2</td>\n",
       "    </tr>\n",
       "    <tr>\n",
       "      <th>2</th>\n",
       "      <td>0</td>\n",
       "      <td>209</td>\n",
       "      <td>1</td>\n",
       "    </tr>\n",
       "    <tr>\n",
       "      <th>3</th>\n",
       "      <td>0</td>\n",
       "      <td>281</td>\n",
       "      <td>2</td>\n",
       "    </tr>\n",
       "    <tr>\n",
       "      <th>4</th>\n",
       "      <td>0</td>\n",
       "      <td>375</td>\n",
       "      <td>1</td>\n",
       "    </tr>\n",
       "    <tr>\n",
       "      <th>...</th>\n",
       "      <td>...</td>\n",
       "      <td>...</td>\n",
       "      <td>...</td>\n",
       "    </tr>\n",
       "    <tr>\n",
       "      <th>1882297</th>\n",
       "      <td>322894</td>\n",
       "      <td>297</td>\n",
       "      <td>1</td>\n",
       "    </tr>\n",
       "    <tr>\n",
       "      <th>1882298</th>\n",
       "      <td>322895</td>\n",
       "      <td>133</td>\n",
       "      <td>1</td>\n",
       "    </tr>\n",
       "    <tr>\n",
       "      <th>1882299</th>\n",
       "      <td>322895</td>\n",
       "      <td>418</td>\n",
       "      <td>1</td>\n",
       "    </tr>\n",
       "    <tr>\n",
       "      <th>1882300</th>\n",
       "      <td>322896</td>\n",
       "      <td>26</td>\n",
       "      <td>1</td>\n",
       "    </tr>\n",
       "    <tr>\n",
       "      <th>1882301</th>\n",
       "      <td>322896</td>\n",
       "      <td>281</td>\n",
       "      <td>1</td>\n",
       "    </tr>\n",
       "  </tbody>\n",
       "</table>\n",
       "<p>1882302 rows × 3 columns</p>\n",
       "</div>"
      ],
      "text/plain": [
       "         user_id  category_id  rating\n",
       "0              0          136       1\n",
       "1              0          186       2\n",
       "2              0          209       1\n",
       "3              0          281       2\n",
       "4              0          375       1\n",
       "...          ...          ...     ...\n",
       "1882297   322894          297       1\n",
       "1882298   322895          133       1\n",
       "1882299   322895          418       1\n",
       "1882300   322896           26       1\n",
       "1882301   322896          281       1\n",
       "\n",
       "[1882302 rows x 3 columns]"
      ]
     },
     "execution_count": 108,
     "metadata": {},
     "output_type": "execute_result"
    }
   ],
   "source": [
    "df[\"user_rating\"]"
   ]
  },
  {
   "cell_type": "code",
   "execution_count": 109,
   "id": "5d775c3a",
   "metadata": {},
   "outputs": [
    {
     "name": "stdout",
     "output_type": "stream",
     "text": [
      "le nombre maximum de clics pour un article est de  535\n"
     ]
    }
   ],
   "source": [
    "print(\"le nombre maximum de clics pour un article est de \", np.max(df[\"user_rating\"][\"rating\"]))"
   ]
  },
  {
   "cell_type": "markdown",
   "id": "cf00874c",
   "metadata": {},
   "source": [
    "Il pourrait être judicieux de normaliser la colonne rating"
   ]
  },
  {
   "cell_type": "code",
   "execution_count": 21,
   "id": "e55115a4",
   "metadata": {},
   "outputs": [],
   "source": [
    "from sklearn.preprocessing import MinMaxScaler\n",
    "\n",
    "df[\"user_rating\"][\"rating_norm\"] = MinMaxScaler(\n",
    "    feature_range=(0,1)\n",
    ").fit_transform(\n",
    "    np.array(df[\"user_rating\"][\"rating\"]).reshape(-1,1)\n",
    ")"
   ]
  },
  {
   "cell_type": "code",
   "execution_count": 111,
   "id": "81b5f916",
   "metadata": {},
   "outputs": [],
   "source": [
    "pickle.dump(df, open(\"df.sav\", \"wb\"))"
   ]
  },
  {
   "cell_type": "code",
   "execution_count": 112,
   "id": "04d3fbbc",
   "metadata": {},
   "outputs": [
    {
     "data": {
      "text/html": [
       "<div>\n",
       "<style scoped>\n",
       "    .dataframe tbody tr th:only-of-type {\n",
       "        vertical-align: middle;\n",
       "    }\n",
       "\n",
       "    .dataframe tbody tr th {\n",
       "        vertical-align: top;\n",
       "    }\n",
       "\n",
       "    .dataframe thead th {\n",
       "        text-align: right;\n",
       "    }\n",
       "</style>\n",
       "<table border=\"1\" class=\"dataframe\">\n",
       "  <thead>\n",
       "    <tr style=\"text-align: right;\">\n",
       "      <th></th>\n",
       "      <th>user_id</th>\n",
       "      <th>category_id</th>\n",
       "      <th>rating</th>\n",
       "      <th>rating_norm</th>\n",
       "    </tr>\n",
       "  </thead>\n",
       "  <tbody>\n",
       "    <tr>\n",
       "      <th>0</th>\n",
       "      <td>0</td>\n",
       "      <td>136</td>\n",
       "      <td>1</td>\n",
       "      <td>0.000000</td>\n",
       "    </tr>\n",
       "    <tr>\n",
       "      <th>1</th>\n",
       "      <td>0</td>\n",
       "      <td>186</td>\n",
       "      <td>2</td>\n",
       "      <td>0.001873</td>\n",
       "    </tr>\n",
       "    <tr>\n",
       "      <th>2</th>\n",
       "      <td>0</td>\n",
       "      <td>209</td>\n",
       "      <td>1</td>\n",
       "      <td>0.000000</td>\n",
       "    </tr>\n",
       "    <tr>\n",
       "      <th>3</th>\n",
       "      <td>0</td>\n",
       "      <td>281</td>\n",
       "      <td>2</td>\n",
       "      <td>0.001873</td>\n",
       "    </tr>\n",
       "    <tr>\n",
       "      <th>4</th>\n",
       "      <td>0</td>\n",
       "      <td>375</td>\n",
       "      <td>1</td>\n",
       "      <td>0.000000</td>\n",
       "    </tr>\n",
       "    <tr>\n",
       "      <th>...</th>\n",
       "      <td>...</td>\n",
       "      <td>...</td>\n",
       "      <td>...</td>\n",
       "      <td>...</td>\n",
       "    </tr>\n",
       "    <tr>\n",
       "      <th>1882297</th>\n",
       "      <td>322894</td>\n",
       "      <td>297</td>\n",
       "      <td>1</td>\n",
       "      <td>0.000000</td>\n",
       "    </tr>\n",
       "    <tr>\n",
       "      <th>1882298</th>\n",
       "      <td>322895</td>\n",
       "      <td>133</td>\n",
       "      <td>1</td>\n",
       "      <td>0.000000</td>\n",
       "    </tr>\n",
       "    <tr>\n",
       "      <th>1882299</th>\n",
       "      <td>322895</td>\n",
       "      <td>418</td>\n",
       "      <td>1</td>\n",
       "      <td>0.000000</td>\n",
       "    </tr>\n",
       "    <tr>\n",
       "      <th>1882300</th>\n",
       "      <td>322896</td>\n",
       "      <td>26</td>\n",
       "      <td>1</td>\n",
       "      <td>0.000000</td>\n",
       "    </tr>\n",
       "    <tr>\n",
       "      <th>1882301</th>\n",
       "      <td>322896</td>\n",
       "      <td>281</td>\n",
       "      <td>1</td>\n",
       "      <td>0.000000</td>\n",
       "    </tr>\n",
       "  </tbody>\n",
       "</table>\n",
       "<p>1882302 rows × 4 columns</p>\n",
       "</div>"
      ],
      "text/plain": [
       "         user_id  category_id  rating  rating_norm\n",
       "0              0          136       1     0.000000\n",
       "1              0          186       2     0.001873\n",
       "2              0          209       1     0.000000\n",
       "3              0          281       2     0.001873\n",
       "4              0          375       1     0.000000\n",
       "...          ...          ...     ...          ...\n",
       "1882297   322894          297       1     0.000000\n",
       "1882298   322895          133       1     0.000000\n",
       "1882299   322895          418       1     0.000000\n",
       "1882300   322896           26       1     0.000000\n",
       "1882301   322896          281       1     0.000000\n",
       "\n",
       "[1882302 rows x 4 columns]"
      ]
     },
     "execution_count": 112,
     "metadata": {},
     "output_type": "execute_result"
    }
   ],
   "source": [
    "df[\"user_rating\"]"
   ]
  },
  {
   "cell_type": "code",
   "execution_count": 53,
   "id": "8613459f",
   "metadata": {
    "scrolled": true
   },
   "outputs": [],
   "source": [
    "X_cf = df[\"user_rating\"][\n",
    "    [\n",
    "        \"user_id\",\n",
    "        \"category_id\",\n",
    "        \"rating_norm\"\n",
    "    ]\n",
    "]"
   ]
  },
  {
   "cell_type": "code",
   "execution_count": 16,
   "id": "1d86fd28",
   "metadata": {},
   "outputs": [],
   "source": [
    "X_cf = X_cf[X_cf[\"rating_norm\"]!=0.]"
   ]
  },
  {
   "cell_type": "markdown",
   "id": "7491efb4",
   "metadata": {},
   "source": [
    "Nous allons maintenant utiliser un *reader* de la librairie *Surprise*. La classe *Reader* est utilisée pour parser un dataframe contenant des notes"
   ]
  },
  {
   "cell_type": "code",
   "execution_count": 18,
   "id": "ba7cba4a",
   "metadata": {},
   "outputs": [
    {
     "data": {
      "text/plain": [
       "503616"
      ]
     },
     "execution_count": 18,
     "metadata": {},
     "output_type": "execute_result"
    }
   ],
   "source": [
    "len(X_cf[\"rating_norm\"][X_cf[\"rating_norm\"]!=0.])"
   ]
  },
  {
   "cell_type": "code",
   "execution_count": 17,
   "id": "26a9a6c3",
   "metadata": {},
   "outputs": [
    {
     "data": {
      "text/plain": [
       "503616"
      ]
     },
     "execution_count": 17,
     "metadata": {},
     "output_type": "execute_result"
    }
   ],
   "source": [
    "len(X_cf) - len(X_cf[\"rating_norm\"][X_cf[\"rating_norm\"]==0.])"
   ]
  },
  {
   "cell_type": "code",
   "execution_count": 19,
   "id": "e3e847c1",
   "metadata": {},
   "outputs": [],
   "source": [
    "reader = Reader(rating_scale=(0,1))\n",
    "data = Dataset.load_from_df(\n",
    "    X_cf[\n",
    "        [\n",
    "            \"user_id\",\n",
    "            \"category_id\",\n",
    "            \"rating_norm\"\n",
    "        ]\n",
    "    ],\n",
    "    reader\n",
    ")"
   ]
  },
  {
   "cell_type": "code",
   "execution_count": 196,
   "id": "3b83e660",
   "metadata": {},
   "outputs": [
    {
     "name": "stdout",
     "output_type": "stream",
     "text": [
      "Nombre d'interactions :  1882302\n"
     ]
    }
   ],
   "source": [
    "print(\"Nombre d'interactions : \", len(X_cf))"
   ]
  },
  {
   "cell_type": "markdown",
   "id": "dce38924",
   "metadata": {},
   "source": [
    "#### Préparation des données pour l'entraînement"
   ]
  },
  {
   "cell_type": "markdown",
   "id": "24640101",
   "metadata": {},
   "source": [
    "Séparons maintenant notre jeu de données en jeu d'entraînement et jeu de test"
   ]
  },
  {
   "cell_type": "code",
   "execution_count": 20,
   "id": "a5ed0fef",
   "metadata": {},
   "outputs": [],
   "source": [
    "train, test = train_test_split(\n",
    "    data,\n",
    "    test_size=0.2\n",
    ")"
   ]
  },
  {
   "cell_type": "code",
   "execution_count": 21,
   "id": "b7fae4bf",
   "metadata": {},
   "outputs": [],
   "source": [
    "pickle.dump(X_cf, open(\"X_cf.pkl\", \"wb\"))\n",
    "pickle.dump(data, open(\"data.pkl\", \"wb\"))\n",
    "pickle.dump(train, open(\"train.pkl\", \"wb\"))\n",
    "pickle.dump(test, open(\"test.pkl\", \"wb\"))"
   ]
  },
  {
   "cell_type": "code",
   "execution_count": 2,
   "id": "1138cb3f",
   "metadata": {},
   "outputs": [],
   "source": [
    "X_cf = pickle.load((open(\"X_cf.pkl\", \"rb\")))\n",
    "data = pickle.load((open(\"data.pkl\", \"rb\")))\n",
    "train = pickle.load((open(\"train.pkl\", \"rb\")))\n",
    "test = pickle.load((open(\"test.pkl\", \"rb\")))"
   ]
  },
  {
   "cell_type": "code",
   "execution_count": 50,
   "id": "3f8cbf29",
   "metadata": {},
   "outputs": [
    {
     "data": {
      "text/plain": [
       "surprise.trainset.Trainset"
      ]
     },
     "execution_count": 50,
     "metadata": {},
     "output_type": "execute_result"
    }
   ],
   "source": [
    "type(train)"
   ]
  },
  {
   "cell_type": "code",
   "execution_count": 51,
   "id": "19614a95",
   "metadata": {},
   "outputs": [
    {
     "data": {
      "text/plain": [
       "list"
      ]
     },
     "execution_count": 51,
     "metadata": {},
     "output_type": "execute_result"
    }
   ],
   "source": [
    "type(test)"
   ]
  },
  {
   "cell_type": "code",
   "execution_count": 117,
   "id": "00a11c73",
   "metadata": {},
   "outputs": [
    {
     "name": "stdout",
     "output_type": "stream",
     "text": [
      "le jeu de test comprend 376461 lignes\n",
      "le jeu d'entraînement' comprend 1505841 lignes\n"
     ]
    }
   ],
   "source": [
    "print(\"le jeu de test comprend {} lignes\".format(len(test)))\n",
    "print(\"le jeu d'entraînement' comprend {} lignes\".format(len(X_cf)-len(test)))"
   ]
  },
  {
   "cell_type": "markdown",
   "id": "5efb6d93",
   "metadata": {},
   "source": [
    "### Benchmark des algorithmes"
   ]
  },
  {
   "cell_type": "markdown",
   "id": "9fcbf7bb",
   "metadata": {},
   "source": [
    "Et si nous testions et comparions plusieurs algorithmes ?\n",
    "\n",
    "Voici la liste des algorithmes que nous allons tester :\n",
    "\n",
    "- **NormalPredictor** : L'algorithme NormalPredictor prédit une note aléatoire basée sur la distribution de l'ensemble d'apprentissage, qui est supposé être normal. C'est l'un des algorithmes les plus basiques qui ne fonctionne bien évidemment pas beaucoup\n",
    "\n",
    "- **BaselineOnly** : Cet algorithme prédit une estimation de base pour un utilisateur et un élément donnés\n",
    "\n",
    "- **SVD** : L'algorithme SVD est équivalent à la factorisation matricielle probabiliste [https://proceedings.neurips.cc/paper/2007/file/d7322ed717dedf1eb4e6e52a37ea7bcd-Paper.pdf](https://proceedings.neurips.cc/paper/2007/file/d7322ed717dedf1eb4e6e52a37ea7bcd-Paper.pdf)\n",
    "\n",
    "- **SVDpp** : L'algorithme SVDpp est une extension de SVD qui prend en compte les notations implicites.\n",
    "\n",
    "- **NMF** : NMF est un algorithme de filtrage collaboratif basé sur la factorisation matricielle non négative. C'est très similaire à SVD.\n",
    "\n",
    "- **Slope One** : Slope One est une implémentation simple de l'algorithme SlopeOne [https://arxiv.org/abs/cs/0702144](https://arxiv.org/abs/cs/0702144)\n",
    "\n",
    "- **Co-clustering** : un algorithme de filtrage collaboratif basé sur le co-clustering (https://citeseerx.ist.psu.edu/viewdoc/download?doi=10.1.1.113.6458&rep=rep1&type=pdf)[https://citeseerx.ist.psu.edu/viewdoc/download?doi=10.1.1.113.6458&rep=rep1&type=pdf]"
   ]
  },
  {
   "cell_type": "markdown",
   "id": "80b427c1",
   "metadata": {},
   "source": [
    "#### Métriques"
   ]
  },
  {
   "cell_type": "markdown",
   "id": "1482ed3d",
   "metadata": {},
   "source": [
    "Les métriques que nous utiliserons sont :\n",
    "- la racine de l'erreur quadratique moyenne (**RMSE**)\n",
    "- l'erreur absolur moyenne (**MAE**)"
   ]
  },
  {
   "cell_type": "markdown",
   "id": "fd1be64b",
   "metadata": {},
   "source": [
    "##### Définitions"
   ]
  },
  {
   "cell_type": "markdown",
   "id": "6007d2cc",
   "metadata": {},
   "source": [
    "La **MSE**, ou erreur quadratique moyenne, est la moyenne des carrés des erreurs, définie par la formule : \n",
    "${{MSE = \\frac{1}{n} \\sum_{i=1}^n e_i^2 = \\frac{1}{n} \\sum_{i=1}^n (y_i – \\hat{y}_i)^2 }}$\n",
    "\n",
    "La **RMSE**, ou racine de l’erreur quadratique moyenne, est – comme son nom l’indique – la racine carrée de la **MSE**. Mathématiquement, elle est définie par : \n",
    "\n",
    "${{RMSE = \\sqrt{MSE} = \\sqrt{\\frac{1}{n} \\sum_{i=1}^n (y_i – \\hat{y}_i)^2}}}$ \n",
    "\n",
    "Contrairement à la **MSE**, la **RMSE** s’exprime dans la même unité que la variable à prédire et est par conséquent plus facile à interpréter. Ces métriques quantifient les erreurs réalisées par le modèle. Plus elles sont élevées, moins le modèle est performant."
   ]
  },
  {
   "cell_type": "markdown",
   "id": "eef3338e",
   "metadata": {},
   "source": [
    "La **MAE**, ou erreur absolue moyenne, est la moyenne des valeurs absolues des erreurs, définie par la formule :\n",
    "\n",
    "${{MAE = \\frac{1}{n} \\sum_{i=1}^n |e_i| = \\frac{1}{n} \\sum_{i=1}^n |y_i – \\hat{y}_i|}}$\n",
    "\n",
    "La **MAE** est dans la même unité que la variable à prédire. Par conséquent, elle est facile à interpréter.\n",
    "\n",
    "Cette métrique quantifie l’erreur réalisée par le modèle. Plus elle est élevée, moins le modèle est performant."
   ]
  },
  {
   "cell_type": "code",
   "execution_count": 198,
   "id": "abf5758b",
   "metadata": {},
   "outputs": [
    {
     "name": "stdout",
     "output_type": "stream",
     "text": [
      "Début:  <surprise.prediction_algorithms.matrix_factorization.SVD object at 0x000002A741918C70>\n"
     ]
    },
    {
     "name": "stderr",
     "output_type": "stream",
     "text": [
      "C:\\Users\\Utilisateur\\AppData\\Local\\Temp\\ipykernel_780\\2037993766.py:46: FutureWarning: The series.append method is deprecated and will be removed from pandas in a future version. Use pandas.concat instead.\n",
      "  tmp = tmp.append(\n"
     ]
    },
    {
     "name": "stdout",
     "output_type": "stream",
     "text": [
      "Fin:  <surprise.prediction_algorithms.matrix_factorization.SVD object at 0x000002A741918C70> \n",
      "\n",
      "\n",
      "Début:  <surprise.prediction_algorithms.matrix_factorization.SVDpp object at 0x000002A741919810>\n"
     ]
    },
    {
     "name": "stderr",
     "output_type": "stream",
     "text": [
      "C:\\Users\\Utilisateur\\AppData\\Local\\Temp\\ipykernel_780\\2037993766.py:46: FutureWarning: The series.append method is deprecated and will be removed from pandas in a future version. Use pandas.concat instead.\n",
      "  tmp = tmp.append(\n"
     ]
    },
    {
     "name": "stdout",
     "output_type": "stream",
     "text": [
      "Fin:  <surprise.prediction_algorithms.matrix_factorization.SVDpp object at 0x000002A741919810> \n",
      "\n",
      "\n",
      "Début:  <surprise.prediction_algorithms.slope_one.SlopeOne object at 0x000002A7419196C0>\n"
     ]
    },
    {
     "name": "stderr",
     "output_type": "stream",
     "text": [
      "C:\\Users\\Utilisateur\\AppData\\Local\\Temp\\ipykernel_780\\2037993766.py:46: FutureWarning: The series.append method is deprecated and will be removed from pandas in a future version. Use pandas.concat instead.\n",
      "  tmp = tmp.append(\n"
     ]
    },
    {
     "name": "stdout",
     "output_type": "stream",
     "text": [
      "Fin:  <surprise.prediction_algorithms.slope_one.SlopeOne object at 0x000002A7419196C0> \n",
      "\n",
      "\n",
      "Début:  <surprise.prediction_algorithms.matrix_factorization.NMF object at 0x000002A7419184C0>\n"
     ]
    },
    {
     "name": "stderr",
     "output_type": "stream",
     "text": [
      "C:\\Users\\Utilisateur\\AppData\\Local\\Temp\\ipykernel_780\\2037993766.py:46: FutureWarning: The series.append method is deprecated and will be removed from pandas in a future version. Use pandas.concat instead.\n",
      "  tmp = tmp.append(\n"
     ]
    },
    {
     "name": "stdout",
     "output_type": "stream",
     "text": [
      "Fin:  <surprise.prediction_algorithms.matrix_factorization.NMF object at 0x000002A7419184C0> \n",
      "\n",
      "\n",
      "Début:  <surprise.prediction_algorithms.random_pred.NormalPredictor object at 0x000002A74191B340>\n"
     ]
    },
    {
     "name": "stderr",
     "output_type": "stream",
     "text": [
      "C:\\Users\\Utilisateur\\AppData\\Local\\Temp\\ipykernel_780\\2037993766.py:46: FutureWarning: The series.append method is deprecated and will be removed from pandas in a future version. Use pandas.concat instead.\n",
      "  tmp = tmp.append(\n"
     ]
    },
    {
     "name": "stdout",
     "output_type": "stream",
     "text": [
      "Fin:  <surprise.prediction_algorithms.random_pred.NormalPredictor object at 0x000002A74191B340> \n",
      "\n",
      "\n",
      "Début:  <surprise.prediction_algorithms.baseline_only.BaselineOnly object at 0x000002A74191ABF0>\n",
      "Estimating biases using als...\n",
      "Estimating biases using als...\n",
      "Estimating biases using als...\n"
     ]
    },
    {
     "name": "stderr",
     "output_type": "stream",
     "text": [
      "C:\\Users\\Utilisateur\\AppData\\Local\\Temp\\ipykernel_780\\2037993766.py:46: FutureWarning: The series.append method is deprecated and will be removed from pandas in a future version. Use pandas.concat instead.\n",
      "  tmp = tmp.append(\n"
     ]
    },
    {
     "name": "stdout",
     "output_type": "stream",
     "text": [
      "Fin:  <surprise.prediction_algorithms.baseline_only.BaselineOnly object at 0x000002A74191ABF0> \n",
      "\n",
      "\n",
      "Début:  <surprise.prediction_algorithms.co_clustering.CoClustering object at 0x000002A741919A20>\n",
      "Fin:  <surprise.prediction_algorithms.co_clustering.CoClustering object at 0x000002A741919A20> \n",
      "\n",
      "\n",
      "\n",
      "\tTERMINÉ\n",
      "\n"
     ]
    },
    {
     "name": "stderr",
     "output_type": "stream",
     "text": [
      "C:\\Users\\Utilisateur\\AppData\\Local\\Temp\\ipykernel_780\\2037993766.py:46: FutureWarning: The series.append method is deprecated and will be removed from pandas in a future version. Use pandas.concat instead.\n",
      "  tmp = tmp.append(\n"
     ]
    }
   ],
   "source": [
    "benchmark = []\n",
    "\n",
    "algorithms = [\n",
    "    SVD(), \n",
    "    SVDpp(), \n",
    "    SlopeOne(), \n",
    "    NMF(), \n",
    "    NormalPredictor(), \n",
    "#     KNNBaseline(), # demande trop de mémoire\n",
    "#     KNNBasic(), # idem\n",
    "#     KNNWithMeans(), \n",
    "#     KNNWithZScore(), \n",
    "    BaselineOnly(), \n",
    "    CoClustering()\n",
    "]\n",
    "\n",
    "for algorithm in algorithms:\n",
    "    print(\"Début: \" ,str(algorithm))\n",
    "    # Effectue la validation croisée\n",
    "    results = cross_validate(\n",
    "        algorithm, \n",
    "        data, \n",
    "        measures=[\"RMSE\", \"MAE\"], \n",
    "        cv=3, \n",
    "        verbose=False\n",
    "    )\n",
    "\n",
    "    \n",
    "    # Associe les résultats et les noms des algorithmes\n",
    "    tmp = pd.DataFrame.from_dict(results).mean(axis=0)\n",
    "    tmp = tmp.append(\n",
    "        pd.Series(\n",
    "            [str(algorithm).split(' ')[0].split('.')[-1]], \n",
    "            index=['Algorithm']\n",
    "        )\n",
    "    )\n",
    "    benchmark.append(tmp)\n",
    "    print(\"Fin: \" ,str(algorithm), \"\\n\\n\")\n",
    "\n",
    "print ('\\n\\tTERMINÉ\\n')"
   ]
  },
  {
   "cell_type": "code",
   "execution_count": 199,
   "id": "de94db21",
   "metadata": {},
   "outputs": [],
   "source": [
    "surprise_results = pd.DataFrame(benchmark).set_index('Algorithm').sort_values('test_rmse')"
   ]
  },
  {
   "cell_type": "code",
   "execution_count": 200,
   "id": "052dde0d",
   "metadata": {},
   "outputs": [
    {
     "data": {
      "text/html": [
       "<div>\n",
       "<style scoped>\n",
       "    .dataframe tbody tr th:only-of-type {\n",
       "        vertical-align: middle;\n",
       "    }\n",
       "\n",
       "    .dataframe tbody tr th {\n",
       "        vertical-align: top;\n",
       "    }\n",
       "\n",
       "    .dataframe thead th {\n",
       "        text-align: right;\n",
       "    }\n",
       "</style>\n",
       "<table border=\"1\" class=\"dataframe\">\n",
       "  <thead>\n",
       "    <tr style=\"text-align: right;\">\n",
       "      <th></th>\n",
       "      <th>test_rmse</th>\n",
       "      <th>test_mae</th>\n",
       "      <th>fit_time</th>\n",
       "      <th>test_time</th>\n",
       "    </tr>\n",
       "    <tr>\n",
       "      <th>Algorithm</th>\n",
       "      <th></th>\n",
       "      <th></th>\n",
       "      <th></th>\n",
       "      <th></th>\n",
       "    </tr>\n",
       "  </thead>\n",
       "  <tbody>\n",
       "    <tr>\n",
       "      <th>BaselineOnly</th>\n",
       "      <td>0.003435</td>\n",
       "      <td>0.001391</td>\n",
       "      <td>3.512999</td>\n",
       "      <td>1.803000</td>\n",
       "    </tr>\n",
       "    <tr>\n",
       "      <th>SlopeOne</th>\n",
       "      <td>0.003673</td>\n",
       "      <td>0.001573</td>\n",
       "      <td>2.584334</td>\n",
       "      <td>4.942999</td>\n",
       "    </tr>\n",
       "    <tr>\n",
       "      <th>NMF</th>\n",
       "      <td>0.003752</td>\n",
       "      <td>0.001119</td>\n",
       "      <td>28.937999</td>\n",
       "      <td>4.921168</td>\n",
       "    </tr>\n",
       "    <tr>\n",
       "      <th>CoClustering</th>\n",
       "      <td>0.003765</td>\n",
       "      <td>0.001128</td>\n",
       "      <td>45.746334</td>\n",
       "      <td>2.191500</td>\n",
       "    </tr>\n",
       "    <tr>\n",
       "      <th>SVDpp</th>\n",
       "      <td>0.003804</td>\n",
       "      <td>0.001489</td>\n",
       "      <td>16.660834</td>\n",
       "      <td>13.544000</td>\n",
       "    </tr>\n",
       "    <tr>\n",
       "      <th>NormalPredictor</th>\n",
       "      <td>0.004463</td>\n",
       "      <td>0.002452</td>\n",
       "      <td>1.590500</td>\n",
       "      <td>1.788333</td>\n",
       "    </tr>\n",
       "    <tr>\n",
       "      <th>SVD</th>\n",
       "      <td>0.005112</td>\n",
       "      <td>0.001670</td>\n",
       "      <td>12.457150</td>\n",
       "      <td>5.390833</td>\n",
       "    </tr>\n",
       "  </tbody>\n",
       "</table>\n",
       "</div>"
      ],
      "text/plain": [
       "                 test_rmse  test_mae   fit_time  test_time\n",
       "Algorithm                                                 \n",
       "BaselineOnly      0.003435  0.001391   3.512999   1.803000\n",
       "SlopeOne          0.003673  0.001573   2.584334   4.942999\n",
       "NMF               0.003752  0.001119  28.937999   4.921168\n",
       "CoClustering      0.003765  0.001128  45.746334   2.191500\n",
       "SVDpp             0.003804  0.001489  16.660834  13.544000\n",
       "NormalPredictor   0.004463  0.002452   1.590500   1.788333\n",
       "SVD               0.005112  0.001670  12.457150   5.390833"
      ]
     },
     "execution_count": 200,
     "metadata": {},
     "output_type": "execute_result"
    }
   ],
   "source": [
    "surprise_results"
   ]
  },
  {
   "cell_type": "code",
   "execution_count": 201,
   "id": "0bf97f6b",
   "metadata": {},
   "outputs": [],
   "source": [
    "surprise_results = pd.DataFrame(benchmark).set_index('Algorithm').sort_values('test_mae')"
   ]
  },
  {
   "cell_type": "code",
   "execution_count": 202,
   "id": "44eaa3e5",
   "metadata": {},
   "outputs": [
    {
     "data": {
      "text/html": [
       "<div>\n",
       "<style scoped>\n",
       "    .dataframe tbody tr th:only-of-type {\n",
       "        vertical-align: middle;\n",
       "    }\n",
       "\n",
       "    .dataframe tbody tr th {\n",
       "        vertical-align: top;\n",
       "    }\n",
       "\n",
       "    .dataframe thead th {\n",
       "        text-align: right;\n",
       "    }\n",
       "</style>\n",
       "<table border=\"1\" class=\"dataframe\">\n",
       "  <thead>\n",
       "    <tr style=\"text-align: right;\">\n",
       "      <th></th>\n",
       "      <th>test_rmse</th>\n",
       "      <th>test_mae</th>\n",
       "      <th>fit_time</th>\n",
       "      <th>test_time</th>\n",
       "    </tr>\n",
       "    <tr>\n",
       "      <th>Algorithm</th>\n",
       "      <th></th>\n",
       "      <th></th>\n",
       "      <th></th>\n",
       "      <th></th>\n",
       "    </tr>\n",
       "  </thead>\n",
       "  <tbody>\n",
       "    <tr>\n",
       "      <th>NMF</th>\n",
       "      <td>0.003752</td>\n",
       "      <td>0.001119</td>\n",
       "      <td>28.937999</td>\n",
       "      <td>4.921168</td>\n",
       "    </tr>\n",
       "    <tr>\n",
       "      <th>CoClustering</th>\n",
       "      <td>0.003765</td>\n",
       "      <td>0.001128</td>\n",
       "      <td>45.746334</td>\n",
       "      <td>2.191500</td>\n",
       "    </tr>\n",
       "    <tr>\n",
       "      <th>BaselineOnly</th>\n",
       "      <td>0.003435</td>\n",
       "      <td>0.001391</td>\n",
       "      <td>3.512999</td>\n",
       "      <td>1.803000</td>\n",
       "    </tr>\n",
       "    <tr>\n",
       "      <th>SVDpp</th>\n",
       "      <td>0.003804</td>\n",
       "      <td>0.001489</td>\n",
       "      <td>16.660834</td>\n",
       "      <td>13.544000</td>\n",
       "    </tr>\n",
       "    <tr>\n",
       "      <th>SlopeOne</th>\n",
       "      <td>0.003673</td>\n",
       "      <td>0.001573</td>\n",
       "      <td>2.584334</td>\n",
       "      <td>4.942999</td>\n",
       "    </tr>\n",
       "    <tr>\n",
       "      <th>SVD</th>\n",
       "      <td>0.005112</td>\n",
       "      <td>0.001670</td>\n",
       "      <td>12.457150</td>\n",
       "      <td>5.390833</td>\n",
       "    </tr>\n",
       "    <tr>\n",
       "      <th>NormalPredictor</th>\n",
       "      <td>0.004463</td>\n",
       "      <td>0.002452</td>\n",
       "      <td>1.590500</td>\n",
       "      <td>1.788333</td>\n",
       "    </tr>\n",
       "  </tbody>\n",
       "</table>\n",
       "</div>"
      ],
      "text/plain": [
       "                 test_rmse  test_mae   fit_time  test_time\n",
       "Algorithm                                                 \n",
       "NMF               0.003752  0.001119  28.937999   4.921168\n",
       "CoClustering      0.003765  0.001128  45.746334   2.191500\n",
       "BaselineOnly      0.003435  0.001391   3.512999   1.803000\n",
       "SVDpp             0.003804  0.001489  16.660834  13.544000\n",
       "SlopeOne          0.003673  0.001573   2.584334   4.942999\n",
       "SVD               0.005112  0.001670  12.457150   5.390833\n",
       "NormalPredictor   0.004463  0.002452   1.590500   1.788333"
      ]
     },
     "execution_count": 202,
     "metadata": {},
     "output_type": "execute_result"
    }
   ],
   "source": [
    "surprise_results"
   ]
  },
  {
   "cell_type": "markdown",
   "id": "f299c815",
   "metadata": {},
   "source": [
    "### Fine Tuning"
   ]
  },
  {
   "cell_type": "markdown",
   "id": "527f95ca",
   "metadata": {},
   "source": [
    "#### NMF"
   ]
  },
  {
   "cell_type": "code",
   "execution_count": 210,
   "id": "06e739f5",
   "metadata": {
    "scrolled": true
   },
   "outputs": [
    {
     "name": "stdout",
     "output_type": "stream",
     "text": [
      "BEST RMSE: \t 0.00375291586030639\n",
      "BEST MAE: \t 0.0011030216710017368\n",
      "BEST params: \t {'n_factors': 5, 'n_epochs': 25, 'reg_pu': 0.04, 'reg_qi': 0.04}\n"
     ]
    }
   ],
   "source": [
    "param_grid = {\n",
    "    \"n_factors\": [5,10,15],\n",
    "    \"n_epochs\": [25, 50],\n",
    "#     \"biased\": [True, False],\n",
    "    \"reg_pu\": [0.04,0.06,0.08],\n",
    "    \"reg_qi\": [0.04,0.06,0.08],\n",
    "}\n",
    "gs = GridSearchCV(\n",
    "    NMF, \n",
    "    param_grid, \n",
    "    measures=[\"rmse\", \"mae\"], \n",
    "    refit=True, \n",
    "    cv=5\n",
    ")\n",
    "\n",
    "gs.fit(data)\n",
    "\n",
    "training_parameters = gs.best_params[\"rmse\"]\n",
    "\n",
    "print(\"BEST RMSE: \\t\", gs.best_score[\"rmse\"])\n",
    "print(\"BEST MAE: \\t\", gs.best_score[\"mae\"])\n",
    "print(\"BEST params: \\t\", gs.best_params[\"mae\"])"
   ]
  },
  {
   "cell_type": "code",
   "execution_count": 217,
   "id": "e9ad2687",
   "metadata": {},
   "outputs": [],
   "source": [
    "pickle.dump(training_parameters, open(\"NMF_training_parameters\", \"wb\"))"
   ]
  },
  {
   "cell_type": "markdown",
   "id": "e3091edd",
   "metadata": {},
   "source": [
    "#### Entraînement avec les meilleurs paramètres"
   ]
  },
  {
   "cell_type": "code",
   "execution_count": 3,
   "id": "4fa5e01e",
   "metadata": {},
   "outputs": [
    {
     "data": {
      "text/plain": [
       "<surprise.prediction_algorithms.matrix_factorization.NMF at 0x18cecc8d480>"
      ]
     },
     "execution_count": 3,
     "metadata": {},
     "output_type": "execute_result"
    }
   ],
   "source": [
    "# algo = gs.best_estimator[\"mae\"]\n",
    "algo = NMF(\n",
    "    n_factors=5,\n",
    "    n_epochs=25,\n",
    "    reg_pu=0.04,\n",
    "    reg_qi=0.04\n",
    ")\n",
    "algo.fit(train)"
   ]
  },
  {
   "cell_type": "code",
   "execution_count": 23,
   "id": "d5d14959",
   "metadata": {},
   "outputs": [
    {
     "name": "stdout",
     "output_type": "stream",
     "text": [
      "Nombre de prédictions :  100724\n"
     ]
    }
   ],
   "source": [
    "predictions = algo.test(test)\n",
    "print(\"Nombre de prédictions : \", len(predictions))"
   ]
  },
  {
   "cell_type": "markdown",
   "id": "d329d22f",
   "metadata": {},
   "source": [
    "#### Évaluation"
   ]
  },
  {
   "cell_type": "code",
   "execution_count": 213,
   "id": "c7f034dd",
   "metadata": {},
   "outputs": [
    {
     "name": "stdout",
     "output_type": "stream",
     "text": [
      "MAE:  0.0011\n"
     ]
    },
    {
     "data": {
      "text/plain": [
       "0.0010987106592538131"
      ]
     },
     "execution_count": 213,
     "metadata": {},
     "output_type": "execute_result"
    }
   ],
   "source": [
    "accuracy.mae(predictions)"
   ]
  },
  {
   "cell_type": "code",
   "execution_count": 214,
   "id": "5a6534c4",
   "metadata": {},
   "outputs": [
    {
     "name": "stdout",
     "output_type": "stream",
     "text": [
      "RMSE: 0.0036\n"
     ]
    },
    {
     "data": {
      "text/plain": [
       "0.003645206926031605"
      ]
     },
     "execution_count": 214,
     "metadata": {},
     "output_type": "execute_result"
    }
   ],
   "source": [
    "accuracy.rmse(predictions)"
   ]
  },
  {
   "cell_type": "markdown",
   "id": "17b3e883",
   "metadata": {},
   "source": [
    "#### Sauvegarde du modèle"
   ]
  },
  {
   "cell_type": "code",
   "execution_count": 4,
   "id": "eff432a7",
   "metadata": {},
   "outputs": [
    {
     "name": "stdout",
     "output_type": "stream",
     "text": [
      ">> Starting dump\n",
      ">> Dump done\n",
      "./_NMF_model\n"
     ]
    }
   ],
   "source": [
    "# certains modèles ne peuvent être sauvegardés avec Surprise v1.1.2\n",
    "# Dans mon cas, la meilleure solution était de downgrade vers v1.1.1\n",
    "# Un ticket a été ouvert sur github\n",
    "model_filename = \"./_NMF_model\"\n",
    "print (\">> Starting dump\")\n",
    "file_name = os.path.expanduser(model_filename)\n",
    "# dump.dump(file_name, algo=algo, predictions=predictions)\n",
    "dump.dump(file_name, algo=algo)\n",
    "print (\">> Dump done\")\n",
    "print(model_filename)"
   ]
  },
  {
   "cell_type": "code",
   "execution_count": 52,
   "id": "3f966891",
   "metadata": {},
   "outputs": [],
   "source": [
    "# Sauvegardons également les fichiers qui seront nécessaires à notre application\n",
    "df_clicks_azure = df_tmp[\"clicks\"][[\"user_id\", \"click_article_id\"]]\n",
    "pickle.dump(df_clicks_azure, open(\"df_clicks_azure.pkl\", \"wb\"))"
   ]
  },
  {
   "cell_type": "markdown",
   "id": "53d36bda",
   "metadata": {},
   "source": [
    "#### Création du système de recommandation"
   ]
  },
  {
   "cell_type": "markdown",
   "id": "1137e9e7",
   "metadata": {},
   "source": [
    "Nous allons d'abord créer une fonction qui retournera les top-N recommandations pour chaque utilisateur depuis un ensemble de prédictions. Cette fonction va d'abord mapper les prédicitons pour chaque utilisateur, puis va trier les prédictions pour chaque utilisateur pour récupérer les K prédictions avec le score le plus élevé"
   ]
  },
  {
   "cell_type": "code",
   "execution_count": 5,
   "id": "2026e351",
   "metadata": {},
   "outputs": [],
   "source": [
    "def get_recommandation_cf(user_id, articles, clicks, algo, n=10):\n",
    "    idx=list(articles.index)\n",
    "    articles_read = clicks[\n",
    "        clicks[\"user_id\"] == user_id\n",
    "    ][\"click_article_id\"].tolist()\n",
    "    for item in articles_read:\n",
    "        if item in idx:\n",
    "            idx.remove(item)\n",
    "    res = {}\n",
    "    for i in idx:\n",
    "        pred = algo.predict(user_id, i)\n",
    "        res[pred.iid]=pred.est\n",
    "    return nlargest(n, res, key=res.get)"
   ]
  },
  {
   "cell_type": "code",
   "execution_count": 361,
   "id": "8b6bdfbf",
   "metadata": {},
   "outputs": [
    {
     "data": {
      "text/plain": [
       "[140, 216, 232, 268, 293, 295, 303, 304, 311, 316]"
      ]
     },
     "execution_count": 361,
     "metadata": {},
     "output_type": "execute_result"
    }
   ],
   "source": [
    "reco_cf = get_recommandation_cf(42, df_art_emb, df[\"clicks\"], algo)\n",
    "reco_cf"
   ]
  },
  {
   "cell_type": "code",
   "execution_count": 362,
   "id": "f8dbf4dc",
   "metadata": {},
   "outputs": [
    {
     "data": {
      "text/plain": [
       "[140, 216, 232, 268, 293, 295, 303, 304, 311, 316]"
      ]
     },
     "execution_count": 362,
     "metadata": {},
     "output_type": "execute_result"
    }
   ],
   "source": [
    "reco_cf_pca = get_recommandation_cf(42, df_art_emb_pca, df[\"clicks\"], algo)\n",
    "reco_cf_pca"
   ]
  },
  {
   "cell_type": "markdown",
   "id": "69f55b38",
   "metadata": {},
   "source": [
    "## Content-based : En utilisant l'embedding des articles"
   ]
  },
  {
   "cell_type": "markdown",
   "id": "659ba7d8",
   "metadata": {},
   "source": [
    "Nous allons ici utiliser le calcul du cosinus entre les articles lus par l'utilisateur et les autres articles projetés dans un espace vectoriel via la matrice d'embeddings"
   ]
  },
  {
   "cell_type": "code",
   "execution_count": 352,
   "id": "46eeecc9",
   "metadata": {},
   "outputs": [
    {
     "data": {
      "text/html": [
       "<div>\n",
       "<style scoped>\n",
       "    .dataframe tbody tr th:only-of-type {\n",
       "        vertical-align: middle;\n",
       "    }\n",
       "\n",
       "    .dataframe tbody tr th {\n",
       "        vertical-align: top;\n",
       "    }\n",
       "\n",
       "    .dataframe thead th {\n",
       "        text-align: right;\n",
       "    }\n",
       "</style>\n",
       "<table border=\"1\" class=\"dataframe\">\n",
       "  <thead>\n",
       "    <tr style=\"text-align: right;\">\n",
       "      <th></th>\n",
       "      <th>user_id</th>\n",
       "      <th>session_id</th>\n",
       "      <th>session_start</th>\n",
       "      <th>session_size</th>\n",
       "      <th>click_article_id</th>\n",
       "      <th>click_timestamp</th>\n",
       "      <th>click_environment</th>\n",
       "      <th>click_deviceGroup</th>\n",
       "      <th>click_os</th>\n",
       "      <th>click_country</th>\n",
       "      <th>click_region</th>\n",
       "      <th>click_referrer_type</th>\n",
       "    </tr>\n",
       "  </thead>\n",
       "  <tbody>\n",
       "    <tr>\n",
       "      <th>0</th>\n",
       "      <td>0</td>\n",
       "      <td>1506825423271737</td>\n",
       "      <td>1506825423000</td>\n",
       "      <td>2</td>\n",
       "      <td>157541</td>\n",
       "      <td>1506826828020</td>\n",
       "      <td>4</td>\n",
       "      <td>3</td>\n",
       "      <td>20</td>\n",
       "      <td>1</td>\n",
       "      <td>20</td>\n",
       "      <td>2</td>\n",
       "    </tr>\n",
       "    <tr>\n",
       "      <th>1</th>\n",
       "      <td>0</td>\n",
       "      <td>1506825423271737</td>\n",
       "      <td>1506825423000</td>\n",
       "      <td>2</td>\n",
       "      <td>68866</td>\n",
       "      <td>1506826858020</td>\n",
       "      <td>4</td>\n",
       "      <td>3</td>\n",
       "      <td>20</td>\n",
       "      <td>1</td>\n",
       "      <td>20</td>\n",
       "      <td>2</td>\n",
       "    </tr>\n",
       "    <tr>\n",
       "      <th>2</th>\n",
       "      <td>1</td>\n",
       "      <td>1506825426267738</td>\n",
       "      <td>1506825426000</td>\n",
       "      <td>2</td>\n",
       "      <td>235840</td>\n",
       "      <td>1506827017951</td>\n",
       "      <td>4</td>\n",
       "      <td>1</td>\n",
       "      <td>17</td>\n",
       "      <td>1</td>\n",
       "      <td>16</td>\n",
       "      <td>2</td>\n",
       "    </tr>\n",
       "    <tr>\n",
       "      <th>3</th>\n",
       "      <td>1</td>\n",
       "      <td>1506825426267738</td>\n",
       "      <td>1506825426000</td>\n",
       "      <td>2</td>\n",
       "      <td>96663</td>\n",
       "      <td>1506827047951</td>\n",
       "      <td>4</td>\n",
       "      <td>1</td>\n",
       "      <td>17</td>\n",
       "      <td>1</td>\n",
       "      <td>16</td>\n",
       "      <td>2</td>\n",
       "    </tr>\n",
       "    <tr>\n",
       "      <th>4</th>\n",
       "      <td>2</td>\n",
       "      <td>1506825435299739</td>\n",
       "      <td>1506825435000</td>\n",
       "      <td>2</td>\n",
       "      <td>119592</td>\n",
       "      <td>1506827090575</td>\n",
       "      <td>4</td>\n",
       "      <td>1</td>\n",
       "      <td>17</td>\n",
       "      <td>1</td>\n",
       "      <td>24</td>\n",
       "      <td>2</td>\n",
       "    </tr>\n",
       "  </tbody>\n",
       "</table>\n",
       "</div>"
      ],
      "text/plain": [
       "  user_id        session_id  session_start session_size click_article_id  \\\n",
       "0       0  1506825423271737  1506825423000            2           157541   \n",
       "1       0  1506825423271737  1506825423000            2            68866   \n",
       "2       1  1506825426267738  1506825426000            2           235840   \n",
       "3       1  1506825426267738  1506825426000            2            96663   \n",
       "4       2  1506825435299739  1506825435000            2           119592   \n",
       "\n",
       "  click_timestamp click_environment click_deviceGroup click_os click_country  \\\n",
       "0   1506826828020                 4                 3       20             1   \n",
       "1   1506826858020                 4                 3       20             1   \n",
       "2   1506827017951                 4                 1       17             1   \n",
       "3   1506827047951                 4                 1       17             1   \n",
       "4   1506827090575                 4                 1       17             1   \n",
       "\n",
       "  click_region click_referrer_type  \n",
       "0           20                   2  \n",
       "1           20                   2  \n",
       "2           16                   2  \n",
       "3           16                   2  \n",
       "4           24                   2  "
      ]
     },
     "execution_count": 352,
     "metadata": {},
     "output_type": "execute_result"
    }
   ],
   "source": [
    "df[\"clicks\"].head()"
   ]
  },
  {
   "cell_type": "code",
   "execution_count": 335,
   "id": "52b7d434",
   "metadata": {},
   "outputs": [],
   "source": [
    "def get_recommandation_cb(user_id, articles, clicks, n=10):\n",
    "    articles_read = clicks[clicks['user_id'] == user_id]['click_article_id'].tolist()\n",
    "    if len(articles_read) == 0:\n",
    "        return \"L'utilisateur n'a lu aucun article\"\n",
    "    articles_read_embedding = articles.loc[articles_read]\n",
    "    articles = articles.drop(articles_read)\n",
    "    matrix = cosine_similarity(articles_read_embedding, articles)\n",
    "    recommandations = []\n",
    "    for i in range(n):\n",
    "        coord_x = floor(np.argmax(matrix)/matrix.shape[1])\n",
    "        coord_y = np.argmax(matrix)%matrix.shape[1]\n",
    "        recommandations.append(int(articles.index[coord_y]))\n",
    "        matrix[coord_x][coord_y] = 0\n",
    "    return recommandations"
   ]
  },
  {
   "cell_type": "markdown",
   "id": "14fa1b22",
   "metadata": {},
   "source": [
    "Nous allons comparer les résultats entre l'utilisation du fichier d'embeddings d'origine et l'embeddings réduit par l'ACP"
   ]
  },
  {
   "cell_type": "code",
   "execution_count": 350,
   "id": "284647ad",
   "metadata": {},
   "outputs": [
    {
     "name": "stdout",
     "output_type": "stream",
     "text": [
      "[228299, 235079, 233829, 228944, 345924]\n",
      "[228299, 345924, 235079, 233829, 228944]\n",
      "[228299, 228944, 233829, 235079, 345924]\n",
      "[228299, 228944, 233829, 235079, 345924]\n"
     ]
    }
   ],
   "source": [
    "reco_emb = get_recommandation_cb(1, df_art_emb, df[\"clicks\"], 5)\n",
    "reco_emb_pca = get_recommandation_cb(1, df_art_emb_pca, df[\"clicks\"], 5)\n",
    "print(reco_emb)\n",
    "print(reco_emb_pca)\n",
    "print(sorted(reco_emb))\n",
    "print(sorted(reco_emb_pca))"
   ]
  },
  {
   "cell_type": "markdown",
   "id": "0952a865",
   "metadata": {},
   "source": [
    "On peut constater que les résultats sont similaires"
   ]
  },
  {
   "cell_type": "code",
   "execution_count": null,
   "id": "2f18268b",
   "metadata": {},
   "outputs": [],
   "source": []
  }
 ],
 "metadata": {
  "kernelspec": {
   "display_name": "OC_P09",
   "language": "python",
   "name": "oc_p09"
  },
  "language_info": {
   "codemirror_mode": {
    "name": "ipython",
    "version": 3
   },
   "file_extension": ".py",
   "mimetype": "text/x-python",
   "name": "python",
   "nbconvert_exporter": "python",
   "pygments_lexer": "ipython3",
   "version": "3.10.4"
  }
 },
 "nbformat": 4,
 "nbformat_minor": 5
}
